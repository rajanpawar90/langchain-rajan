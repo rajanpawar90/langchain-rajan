{
 "cells": [
  {
   "cell_type": "raw",
   "id": "afaf8039",
   "metadata": {},
   "source": [
    "---\n",
    "sidebar_label: MyModuleName\n",
    "---"
   ]
  },
  {
   "cell_type": "markdown",
   "id": "e49f1e0d",
   "metadata": {},
   "source": [
    "# MyModuleName Embeddings\n",
    "\n",
    "This notebook covers how to get started with MyModuleName embedding models.\n",
    "\n",
    "## Installation"
   ]
  },
  {
   "cell_type": "code",
   "execution_count": null,
   "id": "4c3bef91",
   "metadata": {},
   "outputs": [],
   "source": [
    "# Install the package\n",
    "!pip install -U my-package-name"
   ]
  },
  {
   "cell_type": "markdown",
   "id": "2b4f3e15",
   "metadata": {},
   "source": [
    "## Environment Setup\n",
    "\n",
    "Make sure to set the following environment variables:\n",
    "\n",
    "- API_KEY=your_api_key\n",
    "- MODEL_ID=your_model_id\n",
    "\n",
    "## Usage"
   ]
  },
  {
   "cell_type": "code",
   "execution_count": null,
   "id": "62e0dbc3",
   "metadata": {
    "tags": []
   },
   "outputs": [],
   "source": [
    "from my_module_name.embeddings import MyModuleNameEmbeddings\n",
    "\n",
    "embeddings = MyModuleNameEmbeddings()"
   ]
  },
  {
   "cell_type": "code",
   "execution_count": null,
   "id": "12fcfb4b",
   "metadata": {},
   "outputs": [],
   "source": [
    "embeddings.embed_query(\"My query to look up\")"
   ]
  },
  {
   "cell_type": "code",
   "execution_count": null,
   "id": "1f2e6104",
   "metadata": {},
   "outputs": [],
   "source": [
    "embeddings.embed_documents(\n",
    "    ['This is a content of the document', 'This is another document']\n",
    ")"
   ]
  },
  {
   "cell_type": "code",
   "execution_count": null,
   "id": "46739f68",
   "metadata": {},
   "outputs": [],
   "source": [
    "# Asynchronous embed query\n",
    "await embeddings.aembed_query(\"My query to look up\")"
   ]
  },
  {
   "cell_type": "code",
   "execution_count": null,
   "id": "e48632ea",
   "metadata": {},
   "outputs": [],
   "source": [
    "# Asynchronous embed documents\n",
    "await embeddings.aembed_documents(\n",
    "    ['This is a content of the document', 'This is another document']\n",
    ")"
   ]
  }
 ],
 "metadata": {
  "kernelspec": {
   "display_name": "Python 3 (ipykernel)",
   "language": "python",
   "name": "python3"
  },
  "language_info": {
   "codemirror_mode": {
    "name": "ipython",
    "version": 3
   },
   "file_extension": ".py",
   "mimetype": "text/x-python",
   "name": "python",
   "nbconvert_exporter": "python",
   "pygments_lexer": "ipython3",
   "version": "3.10.5"
  }
 },
 "nbformat": 4,
 "nbformat_minor": 5
}
