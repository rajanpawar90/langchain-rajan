import argparse
import re
from typing import Tuple

import langchain_openai
import langchain_experimental.tot.checker as checker
import langchain_experimental.tot.thought as thought
import logging

logger = logging.getLogger(__name__)

def is_solution_valid(problem_description: str, thought: str) -> thought.ThoughtValidity:
    last_thought = thought.Thought(text=thought)
    clean_solution = last_thought.text.replace(" ", "").replace('"', "")
    regex_solution = re.escape(clean_solution).replace("*", ".").replace("|", "\\|")
    if sudoku_solution in clean_solution:
        return thought.ThoughtValidity.VALID_FINAL
    elif re.search(regex_solution, sudoku_solution):
        return thought.ThoughtValidity.VALID_INTERMEDIATE
    else:
        return thought.ThoughtValidity.INVALID

def main(problem_description: str, thought: str):
    checker = MyChecker()
    validity = checker.is_solution_valid(problem_description, thought)
    print(validity)

class MyChecker(checker.ToTChecker):
    def is_solution_valid(self, problem_description: str, thought: str) -> thought.ThoughtValidity:
        try:
            return super().is_solution_valid(problem_description, thought)
        except Exception as e:
            logger.error(f"Error in is_solution_valid: {e}")
            return thought.ThoughtValidity.INVALID

if __name__ == "__main__":
    parser = argparse.ArgumentParser(description="Sudoku solver using Tree of Thought")
    parser.add_argument("thought", help="The thought to be checked")
    args = parser.parse_args()

    sudoku_puzzle = "3,*,*,2|1,*,3,*|*,1,*,3|4,*,*,1"
    sudoku_solution = "3,4,1,2|1,2,3,4|2,1,4,3|4,3,2,1"
    problem_description = (
        f"{sudoku_puzzle}\n"
        "- This is a 4x4 Sudoku puzzle.\n"
        "- The * represents a cell to be filled.\n"
        "- The | character separates rows.\n"
        "- At each step, replace one or more * with digits 1-4.\n"
        "- There must be no duplicate digits in any row, column or 2x2 subgrid.\n"
        "- Keep the known digits from previous valid thoughts in place.\n"
        "- Each thought can be a partial or the final solution.\n"
    )

    main(problem_description, args.thought)
