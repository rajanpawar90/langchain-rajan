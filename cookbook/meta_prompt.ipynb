{
 "cells": [
  {
   "cell_type": "markdown",
   "id": "45b0b89f",
   "metadata": {},
   "source": [
    "# Meta-Prompt\n",
    "\n",
    "This is a LangChain implementation of [Meta-Prompt](https://noahgoodman.substack.com/p/meta-prompt-a-simple-self-improving), by [Noah Goodman](https://cocolab.stanford.edu/ndg), for building self-improving agents.\n",
    "\n",
    "The key idea behind Meta-Prompt is to prompt the agent to reflect on its own performance and modify its own instructions.\n",
    "\n",
    "![figure](https://substackcdn.com/image/fetch/f_auto,q_auto:good,fl_progressive:steep/https%3A%2F%2Fsubstack-post-media.s3.amazonaws.com%2Fpublic%2Fimages%2F468217b9-96d9-47c0-a08b-dbf6b21b9f49_492x384.png)\n",
    "\n",
    "Here is a description from the [original blog post](https
