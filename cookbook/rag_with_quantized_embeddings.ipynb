import os
import uuid
from pathlib import Path
import torch
from bs4 import BeautifulSoup
from langchain.retrievers.multi_vector import MultiVectorRetriever
from langchain.storage import InMemoryByteStore, LocalFileStore
from langchain_community.document_loaders.recursive_url_loader import RecursiveUrlLoader
from langchain_community.vectorstores import Chroma
from langchain_community.embeddings import QuantizedBiEncoderEmbeddings
from langchain_core.embeddings import Embeddings
from typing import List, Dict
import ipywidgets as widgets

