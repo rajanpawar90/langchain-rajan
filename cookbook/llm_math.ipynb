{
 "cells": [
  {
   "cell_type": "markdown",
   "id": "e71e720f",
   "metadata": {},
   "source": [
    "# Math chain\n",
    "\n",
    "This notebook showcases using LLMs and Python REPLs to do complex word math problems."
   ]
  },
  {
   "cell_type": "code",
   "execution_count": 1,
   "id": "44e9ba31",
   "metadata": {},
   "outputs": [],
   "source": [
    "import asyncio\n",
    "from langchain.chains import LLMMathChain\n",
    "from langchain_openai import OpenAI\n",
    "import sys"
   ]
  },
  {
   "cell_type": "code",
   "execution_count": 2,
   "id": "44e9ba31",
   "metadata": {},
   "outputs": [],
   "source": [
    "async def main():\n",
    "    try:\n",
    "        llm = OpenAI(temperature=0)\n",
    "        llm_math = LLMMathChain.from_llm(llm, verbose=True)\n",
    "        while True:\n",
    "            problem = input('Enter a math problem (type "quit" to exit): ')\n",
    "            if problem.lower() == 'quit':\n",
    "                break\n",
    "            result = await llm_math.invoke(problem)\n",
    "            print(f'Answer: {result}')\n",
    "    except Exception as e:\n",
    "        print(f'An error occurred: {e}', file=sys.stderr)"
   ]
  },
  {
   "cell_type": "code",
   "execution_count": 3,
   "id": "44e9ba31",
   "metadata": {},
   "outputs": [],
   "source": [
    "if __name__ == '__main__':\n",
    "    asyncio.run(main())"
   ]
  },
  {
   "cell_type": "code",
   "execution_count": null,
   "id": "e978bb8e",
   "metadata": {},
   "outputs": [],
   "source": []
  }
 ],
 "metadata": {
  "kernelspec": {
   "display_name": "Python 3 (ipykernel)",
   "language": "python",
   "name": "python3"
  },
  "language_info": {
   "codemirror_mode": {
    "name": "ipython",
    "version": 3
   },
   "file_extension": ".py",
   "mimetype": "text/x-python",
   "name": "python",
   "nbconvert_exporter": "python",
   "pygments_lexer": "ipython3",
   "version": "3.11.3"
  }
 },
 "nbformat": 4,
 "nbformat_minor": 5
}
