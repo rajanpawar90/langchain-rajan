{
 "cells": [
  {
   "cell_type": "markdown",
   "id": "0ddfef23-3c74-444c-81dd-6753722997fa",
   "metadata": {},
   "source": [
    "# Plan-and-execute Agent\n",
    "\n",
    "Plan-and-execute agents accomplish an objective by first planning what to do, then executing the sub tasks. This idea is inspired by BabyAGI and the Plan-and-Solve paper."
   ]
  },
  {
   "cell_type": "markdown",
   "id": "a7ecb22a-7009-48ec-b14e-f0fa5aac1cd0",
   "metadata": {},
   "source": [
    "## Imports"
   ]
  },
  {
   "cell_type": "code",
   "execution_count": 3,
   "id": "5fbbd4ee-bfe8-4a25-afe4-8d1a552a3d2e",
   "metadata": {},
   "outputs": [],
   "source": [
    "from langchain.chains import LLMMathChain\n",
    "from langchain_community.utilities import DuckDuckGoSearchAPIWrapper\n",
    "from langchain_core.tools import Tool\n",
    "from langchain_experimental.plan_and_execute import PlanAndExecuteAgent\n",
    "from langchain_openai import ChatOpenAI, OpenAI"
   ]
  },
  {
   "cell_type": "markdown",
   "id": "e0e995e5-af9d-4988-bcd0-467a2a2e18cd",
   "metadata": {},
   "source": [
    "## Tools"
   ]
  },
  {
   "cell_type": "code",
   "execution_count": 4,
   "id": "1d789f4e-54e3-4602-891a-f076e0ab9594",
   "metadata": {},
   "outputs": [],
   "source": [
    "search = DuckDuckGoSearchAPIWrapper()\n",
    "llm = OpenAI(temperature=0)\n",
    "llm_math_chain = LLMMathChain.from_llm(llm=llm, verbose=True)\n",
    "tools = [\n",
    "    Tool(\n",
    "        name=\"Search\",\n",
    "        func=search.run,\n",
    "        description=\"Useful for answering questions about current events.\",\n",
    "    ),\n",
    "    Tool(\n",
    "        name=\"Calculator\",\n",
    "        func=llm_math_chain.run,\n",
    "        description=\"Useful for answering questions about math.\"\n",
    "    ),\n",
    "]\n"
   ]
  },
  {
   "cell_type": "markdown",
   "id": "04dc6452-a07f-49f9-be12-95be1e2afccc",
   "metadata": {},
   "source": [
    "## Plan-and-execute Agent\n"
   ]
  },
  {
   "cell_type": "code",
   "execution_count": 5,
   "id": "d8f49c03-c804-458b-8122-c92b26c7b7dd",
   "metadata": {},
   "outputs": [],
   "source": [
    "model = ChatOpenAI(temperature=0)\n",
    "agent = PlanAndExecuteAgent(model=model, tools=tools)\n"
   ]
  },
  {
   "cell_type": "markdown",
   "id": "78ba03dd-0322-4927-b58d-a7e2027fdbb3",
   "metadata": {},
   "source": [
    "## Run example"
   ]
  },
  {
   "cell_type": "code",
   "execution_count": 6,
   "id": "a57f7efe-7866-47a7-bce5-9c7b1047964e",
   "metadata": {},
   "outputs": [
    {
     "name": "stdout",
     "output_type": "stream",
     "text": [
      "The current prime minister of the UK is Rishi Sunak. His age raised to the 0.43 power is approximately 4.9888126515157.\n"
     ]
    },
    {
     "data": {
      "text/plain": [
       "'The current prime minister of the UK is Rishi Sunak. His age raised to the 0.43 power is approximately 4.9888126515157.'"
      ]
     },
     "execution_count": 6,
     "metadata": {},
     "output_type": "execute_result"
    }
   ],
   "source": [
    "print(agent.run(\"Who is the current prime minister of the UK? What is their current age raised to the 0.43 power?\"))"
   ]
  },
  {
   "cell_type": "code",
   "execution_count": null,
   "id": "0ef78a07-1a2a-46f8-9bc9-ae45f9bd706c",
   "metadata": {},
   "outputs": [],
   "source": []
  }
 ],
 "metadata": {
  "kernelspec": {
   "display_name": "Python 3 (ipykernel)",
   "language": "python",
   "name": "python3"
  },
  "language_info": {
   "codemirror_mode": {
    "name": "ipython",
    "version": 3
   },
   "file_extension": ".py",
   "mimetype": "text/x-python",
   "name": "python",
   "nbconvert_exporter": "python",
   "pygments_lexer": "ipython3",
   "version": "3.9.12"
  }
 },
 "nbformat": 4,
 "nbformat_minor": 5
}

