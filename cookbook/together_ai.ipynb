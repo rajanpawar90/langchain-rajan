{
 "cells": [
  {
   "cell_type": "markdown",
   "id": "0fc0309d-4d49-4bb5-bec0-bd92c6fddb28",
   "metadata": {},
   "source": [
    "## Together AI + RAG\n",
    "\n",
    "[Together AI](https://python.langchain.com/docs/integrations/llms/together) has a broad set of OSS LLMs via inference API.\n",
    "\n",
    "See [here](https://docs.together.ai/docs/inference-models). We use `\"mistralai/Mixtral-8x7B-Instruct-v0.1` for RAG on the Mixtral paper.\n",
    "\n",
    "Download the paper:\n",
    "https://arxiv.org/pdf/2401.04088.pdf"
   ]
  },
  {
   "cell_type": "code",
   "execution_count": null,
   "id": "d12fb75a-f707-48d5-82a5-efe2d041813c",
   "metadata": {},
   "outputs": [],
   "source": [
    "# Check for required packages and install if missing\n",
    "import sys\n",
    "required_packages = ['pypdf', 'chromadb', 'tiktoken', 'openai', 'langchain-together', 'langchain_community', 'langchain_core', 'langchain_together']\n",
    "installed_packages = [pkg for pkg in required_packages if pkg in sys.modules]\n",
    "missing_packages = [pkg for pkg in required_packages if pkg not in installed_packages]\n",
    "\n",
    "if missing_packages:\n",
    "    print(f\"Installing missing packages: {' '.join(missing_packages)}\")\n",
    "    !pip install --quiet {' '.join(missing_packages)}\n",
    "\n",
    "# Import functions and classes after installation\n",
    "from langchain_community.document_loaders import PyPDFLoader\n",
    "from langchain_community.text_splitters import RecursiveCharacterTextSplitter\n",
    "from langchain_community.embeddings import OpenAIEmbeddings\n",
    "from langchain_community.vectorstores import Chroma\n",
    "from langchain_core.output_parsers import StrOutputParser\n",
    "from langchain_core.prompts import ChatPromptTemplate\n",
    "from langchain_core.pydantic_v1 import BaseModel\n",
    "from langchain_core.runnables import RunnableParallel, RunnablePassthrough\n",
    "from langchain_together import Together, TogetherEmbeddings\n"
   ]
  },
  {
   "cell_type": "code",
   "execution_count": null,
   "id": "9ab49327-0532-4480-804c-d066c302a322",
   "metadata": {},
   "outputs": [],
   "source": [
    "# Load, split, and add to vectorDB\n",
    "def process_pdf(file_path: str, model_name: str):\n",
    "    loader = PyPDFLoader(file_path)\n",
    "    data = loader.load()\n",
    "\n",
    "    text_splitter = RecursiveCharacterTextSplitter(chunk_size=2000, chunk_overlap=0)\n",
    "    all_splits = text_splitter.split_documents(data)\n",
    "\n",
    "    embeddings = TogetherEmbeddings(model=model_name)\n",
    "    vectorstore = Chroma.from_documents(\n",
    "        documents=all_splits,\n",
    "        collection_name=\"rag-chroma\",\n",
    "        embedding=embeddings,\n",
    "    )\n",
    "    retriever = vectorstore.as_retriever()\n",
    "    return retriever\n",
    "\n",
    "retriever = process_pdf('~/Desktop/mixtral.pdf', 'togethercomputer/m2-bert-80M-8k-retrieval')"
   ]
  },
  {
   "cell_type": "code",
   "execution_count": null,
 "id": "4efaddd9-3dbb-455c-ba54-0ad7f2d2ce0f",
   "metadata": {},
   "outputs": [],
   "source": [
    "# RAG prompt and chain\n",
    "def rag_chain(retriever, question):\n",
    "    template = \"Answer the question based only on the following context:\\n{context}\\n\nQuestion: {question}\"\n",
    "    prompt = ChatPromptTemplate.from_template(template)\n",
    "    llm = Together(\n",
    "        model=\"mistralai/Mixtral-8x7B-Instruct-v0.1\",\n",
    "        temperature=0.0,\n",
    "        max_tokens=2000,\n",
    "        top_k=1,\n",
    "    )\n",
    "    chain = (\n",
    "        RunnableParallel({\"context\": retriever, \"question\": RunnablePassthrough()})\n",
    "        | prompt\n",
    "        | llm\n",
    "        | StrOutputParser()\n",
    "    )\n",
    "    return chain.invoke(question)\n"
   ]
  },
  {
   "cell_type": "code",
   "execution_count": null,
   "id": "88b1ee51-1b0f-4ebf-bb32-e50e843f0eeb",
   "metadata": {},
   "outputs": [],
   "source": [
    "question = 'What are the Architectural details of Mixtral?'\n",
    "response = rag_chain(retriever, question)"
   ]
  },
  {
   "cell_type": "code",
   "execution_count": null,
   "id": "755cf871-26b7-4e30-8b91-9ffd698470f4",
   "metadata": {},
   "outputs": [],
   "source": [
    "response"
   ]
  }
 ],
 "metadata": {
  "kernelspec": {
   "display_name": "Python 3 (ipykernel)",
   "language": "python",
   "name": "python3"
  },
  "language_info": {
   "codemirror_mode": {
    "name": "ipython",
    "version": 3
   },
   "file_extension": ".py",
   "mimetype": "text/x-python",
   "name": "python",
   "nbconvert_exporter": "python",
   "pygments_lexer": "ipython3",
   "version": "3.9.6"
  }
 },
 "nbformat": 4,
 "nbformat_minor": 5
}
