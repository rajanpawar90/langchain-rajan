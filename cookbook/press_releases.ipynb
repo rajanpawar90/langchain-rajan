{
 "cells": [
  {
   "cell_type": "markdown",
   "id": "62ee82e4-2ad8-498b-8438-fac388afe1a2",
   "metadata": {},
   "source": [
    "Press Releases Data\n",
    "==================\n",
    "\n",
    "Powered by [Kay.ai](https://kay.ai).\n",
    "\n",
    ">Press releases are used by companies to announce something noteworthy, including product launches, financial performance reports, partnerships, and other significant news. They are widely used by analysts to track corporate strategy, operational updates and financial performance.\n",
    "Kay.ai obtains press releases of all US public companies from a variety of sources, which include the company's official press room and partnerships with various data API providers. \n",
    "This data is updated till Sept 30th for free access, if you want to access the real-time feed, reach out to us at hello@kay.ai or [tweet at us](https://twitter.com/vishalrohra_)"
   ]
  },
  {
   "cell_type": "markdown",
   "id": "8183d85d-365f-4672-a963-52b533547de0",
   "metadata": {},
   "source": [
    "Setup\n",
    "====\n",
    "\n",
    "First, install the `kay` package if you haven't already. You will also need an API key: you can get one for free at [https://kay.ai](https://kay.ai/). Once you have an API key, set it as an environment variable `KAY_API_KEY`.\n",
    "\n",
    "In this example, we'll use the `KayAiRetriever`. For more detailed information on the parameters it accepts, see the [kay notebook](/docs/integrations/retrievers/kay)."
   ]
  },
  {
   "cell_type": "markdown",
   "id": "02ec21c7-49fe-4844-b58a-bf064ad40b2a",
   "metadata": {},
   "source": [
    "Examples\n",
    "=======\n",
    "\n"
   ]
  },
  {
   "cell_type": "code",
   "execution_count": 1,
   "id": "bf0395f7-6ebe-4136-8b0d-00b9dea3becd",
   "metadata": {},
   "outputs": [
    {
     "name": "stdout",
     "output_type": "stream",
     "text": [
      "Enter KAY_API_KEY: "
     ]
    },
    {
     "name": "stderr",
     "output_type": "stream",
     "text": [
      "Enter OPENAI_API_KEY: "
     ]
    }
   ],
   "source": [
    "# Enter API keys\n",
    "import os\n",
    "import getpass\n",
    "\n",
    "KAY_API_KEY = getpass.getpass()\n",
    "os.environ[\"KAY_API_KEY\"] = KAY_API_KEY\n",
    "\n",
    "OPENAI_API_KEY = getpass.getpass()\n",
    "os.environ[\"OPENAI_API_KEY\"] = OPENAI_API_KEY"
   ]
  },
  {
   "cell_type": "code",
   "execution_count": 2,
   "id": "f7fcaf70-29a4-444b-8f07-9784f808c300",
   "metadata": {},
   "outputs": [],
   "source": [
    "import langchain.chains\n",
    "import langchain.retrievers\n",
    "import langchain_openai\n",
    "\n",
    "model = langchain_openai.ChatOpenAI(model=\"gpt-3.5-turbo\")\n",
    "retriever = langchain.retrievers.KayAiRetriever.create(\n",
    "    dataset_id=\"company\", data_types=[\"PressRelease\"], num_contexts=6\n",
    ")\n",
    "qa = langchain.chains.ConversationalRetrievalChain.from_llm(model, retriever=retriever)"
   ]
  },
  {
   "cell_type": "code",
   "execution_count": 3,
   "id": "ac00bf93-3635-4ffe-b9a6-a8b4f35c0c85",
   "metadata": {},
   "outputs": [],
   "source": [
    "questions = [\n",
    "    \"How is the healthcare industry adopting generative AI tools?\",\n",
    "    # \"What are some recent challenges faced by the renewable energy sector?\",\n",
    "]\n",
    "chat_history = []\n",
    "\n",
    "for question in questions:\n",
    "    result = qa({\"question\": question, \"chat_history\": chat_history})\n",
    "    chat_history.append((question, result[\"answer\"]))\n",
    "    print(f\"-> **Question**: {question} \\n\")\n",
    "    print(f\"**Answer**: {result['answer']} \\n\")"
   ]
  }
 ],
 "metadata": {
  "kernelspec": {
   "display_name": "Python 3 (ipykernel)",
   "language": "python",
   "name": "python3"
  },
  "language_info": {
   "codemirror_mode": {
    "name": "ipython",
    "version": 3
   },
   "file_extension": ".py",
   "mimetype": "text/x-python",
   "name": "python",
   "nbconvert_exporter": "python",
   "pygments_lexer": "ipython3",
   "version": "3.9.18"
  }
 },
 "nbformat": 4,
 "nbformat_minor": 5
}
