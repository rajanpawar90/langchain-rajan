# Human input chat model

!python -m pip install wikipedia

import time
from langchain.agents import AgentType, initialize_agent, load_tools
from langchain_community.chat_models.human import HumanInputChatModel
from langchain.tools import WikipediaTool

try:
    tools = load_tools(["wikipedia"])
except Exception as e:
    print(f"Error loading tools: {e}")
    tools = []

if not tools:
    print("No tools available")
else:
    llm = HumanInputChatModel()
    agent = initialize_agent(tools, llm, agent=AgentType.CHAT_ZERO_SHOT_REACT_DESCRIPTION, verbose=True)

    question = "What is Bocchi the Rock?"
    response = agent(question)
    print(f"Question: {question}\nResponse: {response['output']}")

    question = "Who is Albert Einstein?"
    response = None
    try:
        response = agent(question)
    except Exception as e:
        print(f"Error getting response: {e}")

    if response:
        print(f"Question: {question}\nResponse: {response['output']}")
