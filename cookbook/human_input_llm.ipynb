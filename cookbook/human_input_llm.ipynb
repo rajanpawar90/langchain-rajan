# Human input LLM
# ==============
#
# Similar to the fake LLM, LangChain provides a pseudo LLM class that can be used for testing,
# debugging, or educational purposes. This allows you to mock out calls to the LLM and
# simulate how a human would respond if they received the prompts.
#
# In this notebook, we go over how to use this.

# Install required packages
# ------------------------
#
# We will use the `WikipediaQueryRun` tool in this notebook, so you might need to install the
# `wikipedia` package if you haven't done so already.

!pip install wikipedia

# Import required modules
# ----------------------

from langchain_community.llms.human import HumanInputLLM
from langchain.agents import AgentType, initialize_agent, load_tools

# Initialize tools and LLM
# ------------------------

tools = load_tools(["wikipedia"])
llm = HumanInputLLM(
    prompt_func=lambda prompt: print(f"===PROMPT===\n{prompt}\n===END OF PROMPT===\n")
)

# Initialize agent
# ----------------

agent = initialize_agent(
    tools,
    llm,
    agent=AgentType.ZERO_SHOT_REACT_DESCRIPTION,
    verbose=True,
)

# Run the agent
# -------------

result = agent.run("What is 'Bocchi the Rock!'?")
print(f"\nFinal Answer: {result}")
