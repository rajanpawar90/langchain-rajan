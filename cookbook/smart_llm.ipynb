{
 "cells": [
  {
   "attachments": {},
   "cell_type": "markdown",
   "id": "9e9b7651",
   "metadata": {},
   "source": [
    "# How to use a SmartLLMChain\n",
    "\n",
    "A SmartLLMChain is a form of self-critique chain that can help you if have particularly complex questions to answer. Instead of doing a single LLM pass, it instead performs these 3 steps:\n",
    "1. Ideation: Pass the user prompt `n` times through the LLM to get `n` output proposals (called \"ideas\"), where `n` is a parameter you can set \n",
    "2. Critique: The LLM critiques all ideas to find possible flaws and picks the best one \n",
    "3. Resolve: The LLM tries to improve upon the best idea (as chosen in the critique step) and outputs it. This is then the final output.\n",
    "\n",
    "SmartLLMChains are based on the SmartGPT workflow proposed in https://youtu.be/wVzuvf9D9BU.\n",
    "\n",
    "Note that SmartLLMChains\n",
    "- use more LLM passes (ie `n+2` instead of just 1)\n",
    "- only work then the underlying LLM has the capability for reflection, which smaller models often don't\n",
    "- only work with underlying models that return exactly 1 output, not multiple\n",
    "\n",
    "This notebook demonstrates how to use a SmartLLMChain."
   ]
  },
  {
   "attachments": {},
   "cell_type": "markdown",
   "id": "714dede0",
   "metadata": {},
   "source": [
    "##### Same LLM for all steps"
   ]
  },
  {
   "cell_type": "code",
   "execution_count": 1,
   "id": "d3f7fb22",
   "metadata": {},
   "outputs": [],
   "source": [
    "import os\n",
    "\n",
    "os.environ[\"OPENAI_API_KEY\"] = \"...\""
   ]
  },
  {
   "cell_type": "code",
   "execution_count": 2,
   "id": "10e5ece6",
   "metadata": {},
   "outputs": [],
   "source": [
    "from langchain.prompts import PromptTemplate\n",
    "from langchain_experimental.smart_llm import SmartLLMChain\n",
    "from langchain_openai import ChatOpenAI"
   ]
  },
  {
   "attachments": {},
   "cell_type": "markdown",
   "id": "1780da51",
   "metadata": {},
   "source": [
    "As example question, we will use \"I have a 12 liter jug and a 6 liter jug. I want to measure 6 liters. How do I do it?\". This is an example from the original SmartGPT video (<https://youtu.be/wVzuvf9D9BU?t=384>). While this seems like a very easy question, LLMs struggle do these kinds of questions that involve numbers and physical reasoning.\n",
    "\n",
    "As we will see, all 3 initial ideas are completely wrong - even though we're using GPT4! Only when using self-reflection do we get a correct answer. "
   ]
  },
  {
   "cell_type": "code",
   "execution_count": null,
   "id": "054af6b1",
   "metadata": {},
   "outputs": [],
   "source": [
    "hard_question = \"I have a 12 liter jug and a 6 liter jug. I want to measure 6 liters. How do I do it?\""
   ]
  },
  {
   "attachments": {},
   "cell_type": "markdown",
   "id": "8049cecd",
   "metadata": {},
   "source": [
    "So, we first create an LLM and prompt template"
   ]
  },
  {
   "cell_type": "code",
   "execution_count": 3,
   "id": "811ea8e1",
   "metadata": {},
   "outputs": [],
   "source": [
    "prompt = PromptTemplate.from_template(hard_question)\n",
    "llm = ChatOpenAI(temperature=0, model_name=\"gpt-4\")"
   ]
  },
  {
   "attachments": {},
   "cell_type": "markdown",
   "id": "50b602e4",
   "metadata": {},
   "source": [
    "Now we can create a SmartLLMChain"
   ]
  },
  {
   "cell_type": "code",
   "execution_count": 4,
   "id": "8cd49199",
   "metadata": {},
   "outputs": [],
   "source": [
    "def run_smart_llm_chain(question, n_ideas=3, verbose=True):\n",
    "    chain = SmartLLMChain(llm=llm, prompt=prompt, n_ideas=n_ideas, verbose=verbose)\n",
    "    return chain.invoke({'question': question})\n",
    "\n",
    "run_smart_llm_chain(hard_question)"
   ]
  },
  {
   "attachments": {},
   "cell_type": "markdown",
   "id": "6a72f276",
   "metadata": {},
   "source": [
    "##### Different LLM for different steps"
   ]
  },
  {
   "attachments": {},
   "cell_type": "markdown",
   "id": "5be6ec08",
   "metadata": {},
   "source": [
    "You can also use different LLMs for the different steps by passing `ideation_llm`, `critique_llm` and `resolve_llm`. You might want to do this to use a more creative (i.e., high-temperature) model for ideation and a more strict (i.e., low-temperature) model for critique and resolution."
   ]
  },
  {
   "cell_type": "code",
   "execution_count": 8,
   "id": "9c33fa19",
   "metadata": {},
   "outputs": [],
   "source": [
    "def run_smart_llm_chain_diff_llms(question, n_ideas=3, verbose=True):\n",
    "    ideation_llm = ChatOpenAI(temperature=0.9, model_name=\"gpt-4\")\n",
    "    critique_llm = ChatOpenAI(temperature=0.7, model_name=\"gpt-4\")\n",
    "    resolve_llm = ChatOpenAI(temperature=0.5, model_name=\"gpt-4\")\n",
    "    chain = SmartLLMChain(\n",
    "        ideation_llm=ideation_llm,\n",
    "        critique_llm=critique_llm,\n",
    "        resolve_llm=resolve_llm,\n",
    "        prompt=prompt,\n",
    "        n_ideas=n_ideas,\n",
    "        verbose=verbose,\n",
    "    )\n",
    "    return chain.invoke({'question': question})\n",
    "\n",
    "run_smart_llm_chain_diff_llms(hard_question)"
   ]
  },
  {
   "cell_type": "code",
   "execution_count": null,
   "id": "886c1cc1",
   "metadata": {},
   "outputs": [],
   "source": []
  }
 ],
 "metadata": {
  "kernelspec": {
   "display_name": "Python 3 (ipykernel)",
   "language": "python",
   "name": "python3"
  },
  "language_info": {
   "codemirror_mode": {
    "name": "ipython",
    "version": 3
   },
   "file_extension": ".py",
   "mimetype": "text/x-python",
   "name": "python",
   "nbconvert_exporter": "python",
   "pygments_lexer": "ipython3",
   "version": "3.9.1"
  }
 },
 "nbformat": 4,
 "nbformat_minor": 5
}

