# Data anonymization with Microsoft Presidio

# Install required libraries
!pip install --upgrade --quiet  langchain langchain-openai langchain-experimental presidio-analyzer presidio-anonymizer spacy Faker

# Download spaCy's English language model
!python -m spacy download en_core_web_lg

# Import required libraries
from langchain_experimental.data_anonymizer import PresidioAnonymizer
from langchain_core.prompts.prompt import PromptTemplate
from langchain_openai import ChatOpenAI
from presidio_analyzer import Pattern, PatternRecognizer
from presidio_anonymizer.entities import OperatorConfig
import spacy
import faker

# Initialize Faker library
fake = faker.Faker(locale="pl_PL")

# Define a custom recognizer for Polish phone numbers
polish_phone_numbers_pattern = Pattern(
    name="polish_phone_numbers_pattern",
    regex="(?<!\\w)(\\(?(\\+|00)?48\\)?)?[ -]?\\d{3}[ -]?\\d{3}[ -]?\\d{3}(?!\\w)",
    score=1,
)
polish_phone_numbers_recognizer = PatternRecognizer(
    supported_entity="POLISH_PHONE_NUMBER", patterns=[polish_phone_numbers_pattern]
)

# Define a custom operator for Polish phone numbers
def fake_polish_phone_number(_=None):
    return fake.phone_number()

new_operators = {
    "POLISH_PHONE_NUMBER": OperatorConfig(
        "custom", {"lambda": fake_polish_phone_number}
    )
}

# Initialize PresidioAnonymizer
anonymizer = PresidioAnonymizer()

# Add custom recognizer to PresidioAnonymizer
anonymizer.add_recognizer(polish_phone_numbers_recognizer)

# Add custom operator to PresidioAnonymizer
anonymizer.add_operators(new_operators)

# Anonymize sample text
text = "My name is Slim Shady, call me at 313-666-7440 or email me at real.slim.shady@gmail.com"
print(anonymizer.anonymize(text))

# Use PresidioAnonymizer with LangChain Expression Language
template = """Rewrite this text into an official, short email:

{anonymized_text}"""
prompt = PromptTemplate.from_template(template)
llm = ChatOpenAI(temperature=0)
chain = {"anonymized_text": anonymizer.anonymize} | prompt | llm
response = chain.invoke(text)
print(response.content)

# Anonymize text with custom analyzed_fields
anonymizer = PresidioAnonymizer(analyzed_fields=["PERSON"])
text = "My name is Slim Shady, call me at 313-666-7440 or email me at real.slim.shady@gmail.com"
print(anonymizer.anonymize(text))

# Add custom Polish phone number analyzer to PresidioAnonymizer
anonymizer.add_recognizer(polish_phone_numbers_recognizer)

# Anonymize Polish phone numbers
text = "My polish phone number is 666555444"
print(anonymizer.anonymize(text))
text = "My polish phone number is 666 555 444"
print(anonymizer.anonymize(text))
text = "My polish phone number is +48 666 555 444"
print(anonymizer.anonymize(text))

# Anonymize text with PresidioReversibleAnonymizer
from langchain_experimental.data_anonymizer import PresidioReversibleAnonymizer

anonymizer_with_memory = PresidioReversibleAnonymizer()
text = "My name is John Doe. Hi John Doe!"
print(anonymizer_with_memory.anonymize(text))
print(anonymizer_with_memory.anonymize(text))
