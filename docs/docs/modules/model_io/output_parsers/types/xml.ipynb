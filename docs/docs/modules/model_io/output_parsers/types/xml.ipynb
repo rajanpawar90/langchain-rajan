{
 "cells": [
  {
   "cell_type": "markdown",
   "id": "181b5b6d",
   "metadata": {},
   "source": [
    "# XML parser\n",
    "This output parser allows users to obtain results from a language model in the popular XML format. \n",
    "\n",
    "Keep in mind that large language models are leaky abstractions! You'll have to use a model with sufficient capacity to generate well-formed XML. \n",
    "\n",
    "In the following example we use Claude model which works really well with XML tags."
   ]
  },
  {
   "cell_type": "code",
   "execution_count": 1,
   "id": "3b10fc55",
   "metadata": {},
   "outputs": [],
   "source": [
    "from typing import Dict, Any\n",
    "from langchain.output_parsers import XMLOutputParser\n",
    "from langchain_community.chat_models import ChatAnthropic\n",
    "from langchain_core.prompts import PromptTemplate"
   ]
  },
  {
   "cell_type": "code",
   "execution_count": 2,
   "id": "909161d1",
   "metadata": {},
   "outputs": [],
   "source": [
    "model = ChatAnthropic(model=\"claude-2\", max_tokens_to_sample=512, temperature=0.1)"
   ]
  },
  {
   "cell_type": "markdown",
   "id": "da312f86-0d2a-4aef-a09d-1e72bd0ea9b1",
   "metadata": {},
   "source": [
    "Let's start with the simple request to the model."
   ]
  },
  {
   "cell_type": "code",
   "execution_count": 3,
   "id": "b03785af-69fc-40a1-a1be-c04ed6fade70",
   "metadata": {},
   "outputs": [
    {
     "name": "stdout",
     "output_type": "stream",
     "text": [
      " Here is the shortened filmography for Tom Hanks, enclosed in XML tags:\n",
      "\n",
      "<movie>Splash</movie>\n",
      "<movie>Big</movie>\n",
      "<movie>A League of Their Own</movie>\n",
      "<movie>Sleepless in Seattle</movie>\n",
      "<movie>Forrest Gump</movie>\n",
      "<movie>Toy Story</movie>\n",
      "<movie>Apollo 13</movie>\n",
      "<movie>Saving Private Ryan</movie>\n",
      "<movie>Cast Away</movie>\n",
      "<movie>The Da Vinci Code</movie>\n",
      "<movie>Captain Phillips</movie>\n"
     ]
    }
   ],
   "source": [
    "actor_query = \"Generate the shortened filmography for Tom Hanks.\"\n",
    "output = model.invoke(\n",
    "    f\"\"\"{actor_query}\n",
    "Please enclose the movies in <movie></movie> tags\"\"\"\n",
    ")\n",
    "print(output.content)"
   ]
  },
  {
   "cell_type": "markdown",
   "id": "4db65781-3d54-4ba6-ae26-5b4ead47a4c8",
   "metadata": {},
   "source": [
    "Now we will use the XMLOutputParser in order to get the structured output."
   ]
  },
  {
   "cell_type": "code",
   "execution_count": 4,
   "id": "87ba8d11",
   "metadata": {},
   "outputs": [],
   "source": [
    "def query_model(prompt: str) -> Dict[str, Any]:\n",
    "    try:\n",
    "        output = model.invoke(prompt)\n",
    "        if not output or not output.content:\n
