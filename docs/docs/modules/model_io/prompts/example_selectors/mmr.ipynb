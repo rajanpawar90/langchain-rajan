{
 "cells": [
  {
   "cell_type": "markdown",
   "id": "bc35afd0",
   "metadata": {},
   "source": [
    "# Select by maximal marginal relevance (MMR)\n",
    "\n",
    "The `MaxMarginalRelevanceExampleSelector` selects examples based on a combination of which examples are most similar to the inputs, while also optimizing for diversity. It does this by finding the examples with the embeddings that have the greatest cosine similarity with the inputs, and then iteratively adding them while penalizing them for closeness to already selected examples.\n"
   ]
  },
  {
   "cell_type": "code",
   "execution_count": 1,
   "id": "ac95c968",
   "metadata": {},
   "outputs": [],
   "source": [
    "from typing import List, Dict, Any\n",
    "from langchain_community.vectorstores import FAISS\n",
    "from langchain_core.example_selectors import (\n",
    "    MaxMarginalRelevanceExampleSelector,\n",
    "    SemanticSimilarityExampleSelector,\n",
    ")\n",
    "from langchain_core.prompts import FewShotPromptTemplate, PromptTemplate\n",
    "from langchain_openai import OpenAIEmbeddings\n",
    "\n",
    "example_prompt = PromptTemplate(\n",
    "    input_variables=[\"input\", \"output\"],\n",
    "    template=\"Input: {input}\\nOutput: {output}\",\n",
    ")\n",
    "\n",
    "# Examples of a pretend task of creating antonyms.\n",
    "examples: List[Dict[str, Any]] = [\n",
    "    {\"input\": \"happy\", \"output\": \"sad\"},\n",
    "    {\"input\": \"tall\", \"output\": \"short\"},\n",
    "    {\"input\": \"energetic\", \"output\": \"lethargic\"},\n",
    "    {\"input\": \"sunny\", \"output\": \"gloomy\"},\n",
    "    {\"input\": \"windy\", \"output\": \"calm\"},\n",
    "]\n"
   ]
  },
  {
   "cell_type": "code",
   "execution_count": 2,
   "id": "db579bea",
   "metadata": {},
   "outputs": [],
   "source": [
    "def create_example_selector(examples: List[Dict[str, Any]], k: int) -> MaxMarginalRelevanceExampleSelector:\n",
    "    """Create a MaxMarginalRelevanceExampleSelector instance.\n",
    "    \n",
    "    Args:\n",
    "        examples (List[Dict[str, Any]]): The list of examples available to select from.\n",
    "        k (int): The number of examples to produce.\n",
    "    \n",
    "    Returns:\n",
    "        MaxMarginalRelevanceExampleSelector: An instance of MaxMarginalRelevanceExampleSelector.\n",
    "    """",
    "    example_selector = MaxMarginalRelevanceExampleSelector.from_examples(\n",
    "        examples,\n",
    "        OpenAIEmbeddings(),\n",
    "        FAISS,\n",
    "        k=k,\n",
    "    )\n",
    "    return example_selector\n",
    "\n",
    "def create_few_shot_prompt_template(example_selector: MaxMarginalRelevanceExampleSelector, k: int, input_variable: str)\n",
    "        -> FewShotPromptTemplate:\n",
    "    """Create a FewShotPromptTemplate instance.\n",
    "    \n",
    "    Args:\n",
    "        example_selector (MaxMarginalRelevanceExampleSelector): The example selector instance.\n",
    "        k (int): The number of examples to produce.\n",
    "        input_variable (str): The input variable name.\n",
    "    \n",
    "    Returns:\n",
    "        FewShotPromptTemplate: An instance of FewShotPromptTemplate.\n",
    "    """",
    "    few_shot_prompt = FewShotPromptTemplate(\n",
    "        example_selector=example_selector,\n",
    "        example_prompt=example_prompt,\n",
    "        prefix=f\"Give the antonym of every input\n\",\n",
    "        suffix=f\"Input: {input_variable}\\nOutput:\",\n",
    "        input_variables=[input_variable],\n",
    "    )\n",
    "    return few_shot_prompt"
   ]
  },
  {
   "cell_type": "code",
   "execution_count": 3,
   "id": "cd76e344",
   "metadata": {},
   "outputs": [
    {
     "name": "stdout",
     "output_type": "stream",
     "text": [
      "Give the antonym of every input\n",
      "\n",
      "Input: happy\n",
      "Output: sad\n",
      "\n",
      "Input: windy\n",
      "Output: calm\n",
      "\n",
      "Input: worried\n",
      "Output:\n"
     ]
    }
   ],
   "source": [
    "example_selector = create_example_selector(examples, k=2)\n",
    "mmr_prompt = create_few_shot_prompt_template(example_selector, k=2, input_variable=\"adjective\")\n",
    "print(mmr_prompt.format(adjective=\"worried\"))"
   ]
  },
  {
   "cell_type": "code",
   "execution_count": 4,
   "id": "cf82956b",
   "metadata": {},
   "outputs": [
    {
     "name": "stdout",
     "output_type": "stream",
     "text": [
      "Give the antonym of every input\n",
      "\n",
      "Input: happy\n",
      "Output: sad\n",
      "\n",
      "Input: sunny\n",
      "Output: gloomy\n",
      "\n",
      "Input: worried\n",
      "Output:\n"
     ]
    }
   ],
   "source": [
    "def create_similarity_example_selector(examples: List[Dict[str, Any]], k: int) -> SemanticSimilarityExampleSelector:\n",
    "    """Create a SemanticSimilarityExampleSelector instance.\n",
    "    \n",
    "    Args:\n",
    "        examples (List[Dict[str, Any]]): The list of examples available to select from.\n",
    "        k (int): The number of examples to produce.\n",
    "    \n",
    "    Returns:\n",
    "        SemanticSimilarityExampleSelector: An instance of SemanticSimilarityExampleSelector.\n",
    "    """",
    "    example_selector = SemanticSimilarityExampleSelector.from_examples(\n",
    "        examples,\n",
    "        OpenAIEmbeddings(),\n",
    "        FAISS,\n",
    "        k=k,\n",
    "    )\n",
    "    return example_selector\n",
    "\n",
    "example_selector = create_similarity_example_selector(examples, k=2)\n",
    "similar_prompt = create_few_shot_prompt_template(example_selector, k=2, input_variable=\"adjective\")\n",
    "print(similar_prompt.format(adjective=\"worried\"))"
   ]
  },
  {
   "cell_type": "code",
   "execution_count": null,
   "id": "39f30097",
   "metadata": {},
   "outputs": [],
   "source": []
  }
 ],
 "metadata": {
  "kernelspec": {
   "display_name": "Python 3 (ipykernel)",
   "language": "python",
   "name": "python3"
  },
  "language_info": {
   "codemirror_mode": {
    "name": "ipython",
    "version": 3
   },
   "file_extension": ".py",
   "mimetype": "text/x-python",
   "name": "python",
   "nbconvert_exporter": "python",
   "pygments_lexer": "ipython3",
   "version": "3.11.3"
  }
 },
 "nbformat": 4,
 "nbformat_minor": 5
}

