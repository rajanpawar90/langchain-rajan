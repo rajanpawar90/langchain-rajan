---
sidebar_position: 3
title: "Route logic based on input"
keywords: [RunnableBranch, LCEL]
---

# Dynamically route logic based on input

This notebook covers how to do routing in the LangChain Expression Language.

Routing allows you to create non-deterministic chains where the output of a previous step defines the next step. Routing helps provide structure and consistency around interactions with LLMs.

