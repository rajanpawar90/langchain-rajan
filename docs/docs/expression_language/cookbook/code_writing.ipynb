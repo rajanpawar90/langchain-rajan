{
 "cells": [
  {
   "cell_type": "raw",
   "id": "1e997ab7",
   "metadata": {},
   "source": [
    "---\n",
    "sidebar_class_name: hidden\n",
    "---"
   ]
  },
  {
   "cell_type": "markdown",
   "id": "f09fd305",
   "metadata": {},
   "source": [
    "# Code writing\n",
    "\n",
    "Example of how to use a language model to write Python code."
   ]
  },
  {
   "cell_type": "code",
   "execution_count": null,
   "id": "0653c7c7",
   "metadata": {},
   "outputs": [],
   "source": [
    "%pip install --upgrade --quiet langchain-core langchain-experimental langchain-openai"
   ]
  },
  {
   "cell_type": "code",
   "execution_count": 1,
   "id": "bd7c259a",
   "metadata": {},
   "outputs": [],
   "source": [
    "from langchain_core.output_parsers import StrOutputParser\n",
    "from langchain_core.prompts import ChatPromptTemplate, HumanMessage, SystemMessage\n",
    "from langchain_experimental.utilities import PythonREPL\n",
    "from langchain_openai import ChatOpenAI"
   ]
  },
  {
   "cell_type": "code",
   "execution_count": 12,
   "id": "73795d2d",
   "metadata": {},
   "outputs": [],
   "source": [
    "TEMPLATE = \"Write some Python code to solve the user's problem.\n\nReturn only Python code in Markdown format, e.g.:\n\n```python\n....\n```\""
   ]
  },
  {
   "cell_type": "code",
   "execution_count": 13,
   "id": "42859e8a",
   "metadata": {},
   "outputs": [],
   "source": [
    "PROMPT = ChatPromptTemplate.from_messages([\n",
    "    SystemMessage(content=TEMPLATE),\n",
    "    HumanMessage(content='{input}')\n",
    "])\n",
    "\n",
    "MODEL = ChatOpenAI()"
   ]
  },
  {
   "cell_type": "code",
   "execution_count": 14,
   "id": "5ded1a86",
   "metadata": {},
   "outputs": [],
   "source": [
    "def sanitize_output(text: str) -> str:\n",
    "    """Remove the triple backticks and any leading/trailing newlines.\n",
    "    """\n",
    "    lines = text.strip().splitlines()\n",
    "    if not lines:\n",
    "        return ''\n",
    "    return lines[0]"
   ]
  },
  {
   "cell_type": "code",
   "execution_count": 16,
   "id": "208c2b75",
   "metadata": {},
   "outputs": [],
   "source": [
    "def run_code(code: str) -> str:\n",
    "    repl = PythonREPL()\n",
    "    try:\n",
    "        result = repl.run(code)\n",
    "    except Exception as e:\n",
    "        return f'```python\n{code}\n```\n\nError:\n\n{str(e)}'
