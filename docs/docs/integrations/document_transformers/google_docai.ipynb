{
 "cells": [
  {
   "cell_type": "markdown",
   "id": "b317191d",
   "metadata": {},
   "source": [
    "# Google Cloud Document AI\n"
   ]
  },
  {
   "cell_type": "markdown",
   "id": "a19e6f94",
   "metadata": {},
   "source": [
    "Document AI is a document understanding platform from Google Cloud to transform unstructured data from documents into structured data, making it easier to understand, analyze, and consume.\n",
    "\n",
    "Learn more:\n",
    "\n",
    "- [Document AI overview](https://cloud.google.com/document-ai/docs/overview)\n",
    "- [Document AI videos and labs](https://cloud.google.com/document-ai/docs/videos)\n",
    "- [Try it!](https://cloud.google.com/document-ai/docs/drag-and-drop)\n"
   ]
  },
  {
   "cell_type": "markdown",
   "id": "184c0af8",
   "metadata": {},
   "source": [
    "This notebook demonstrates how to use the `DocAIParser` module, which is a PDF parser based on Google Cloud's Document AI.\n",
    "\n",
    "First, install the required libraries:\n"
   ]
  },
  {
   "cell_type": "code",
   "execution_count": null,
   "id": "c86b2f59",
   "metadata": {},
   "outputs": [],
   "source": [
    "!pip install --upgrade --quiet google-cloud-documentai\n",
    "!pip install --upgrade --quiet google-cloud-documentai-toolbox"
   ]
  },
  {
   "cell_type": "markdown",
   "id": "51946817-798c-4d11-abd6-db2ae53a0270",
   "metadata": {},
   "source": [
    "Before using the `DocAIParser`, you need to set up a Google Cloud Storage (GCS) bucket and create your own Optical Character Recognition (OCR) processor as described here: https://cloud.google.com/document-ai/docs/create-processor\n",
    "\n",
    "Replace the following variables with your own values:\n",
    "\n",
    "- `PROJECT_ID`: Your Google Cloud project ID\n",
    "- `LOCATION`: The location of your processor (e.g., 'us')\n",
    "- `PROCESSOR_ID`: Your processor ID or processor version ID\n",
    "- `BUCKET_NAME`: Your GCS bucket name\n",
    "- `FOLDER_PATH`: A folder path in your GCS bucket (starting with 'gs://')\n",
    "\n",
    "Here's an example of how to set the required variables:\n",
   ]
  },
  {
   "cell_type": "code",
   "execution_count": 2,
   "id": "ac85f7f3-3ef6-41d5-920a-b55f2939c202",
   "metadata": {},
   "outputs": [],
   "source": [
    "PROJECT_ID = 'your-project-id'\n",
    "LOCATION = 'us'\n",
    "PROCESSOR_ID = 'your-processor-id'\n",
    "BUCKET_NAME = 'your-bucket-name'\n",
    "FOLDER_PATH = 'gs://your-bucket-name/your-folder-path'\n",
    "\n",
    "PROCESSOR_NAME = f"
