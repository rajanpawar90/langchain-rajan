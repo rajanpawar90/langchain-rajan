{
 "cells": [
  {
   "cell_type": "markdown",
   "id": "91c6a7ef",
   "metadata": {},
   "source": [
    "# Redis\n",
    "\n",
    ">[Redis (Remote Dictionary Server)](https://en.wikipedia.org/wiki/Redis) is an open-source in-memory storage, used as a distributed, in-memory key–value database, cache and message broker, with optional durability. Because it holds all data in memory and because of its design, `Redis` offers low-latency reads and writes, making it particularly suitable for use cases that require a cache. Redis is the most popular NoSQL database, and one of the most popular databases overall.\n",
    "\n",
    "This notebook goes over how to use `Redis` to store chat message history."
   ]
  },
  {
   "cell_type": "markdown",
   "id": "897a4682-f9fc-488b-98f3-ae2acad84600",
   "metadata": {},
   "source": [
    "## Setup\n",
    "First, ensure you have installed the required dependencies and started a Redis instance using commands like: `redis-server`.\n",
    "\n",
    "To install the required dependencies, run:\n",
    "\n",
    "```bash\n",
    "pip install -U langchain-community redis langchain-openai\n",
    "```"
   ]
  },
  {
   "cell_type": "code",
   "execution_count": null,
   "id": "cda8b56d-baf7-49a2-91a2-4d424a8519cb",
   "metadata": {},
   "outputs": [],
   "source": [
    "try:\n",
    "    import redis\n",
    "except ImportError:\n",
    "    get_ipython().system('pip install redis')\n",
    "    import redis\n",
    "\n",
    "try:\n",
    "    from langchain_community.chat_message_histories import RedisChatMessageHistory\n",
    "except ImportError:\n",
    "    get_ipython().system('pip install langchain-community')\n",
    "    from langchain_community.chat_message_histories import RedisChatMessageHistory\n",
    "\n",
    "try:\n",
    "    from langchain_openai import ChatOpenAI\n",
    "except ImportError:\n",
    "    get_ipython().system('pip install langchain-openai')\n",
    "    from langchain_openai import ChatOpenAI"
   ]
  },
  {
   "cell_type": "markdown",
   "id": "20b99474-75ea-422e-9809-fbdb9d103afc",
   "metadata": {},
   "source": [
    "## Store and Retrieve Messages\n",
    "Establish a connection to the Redis instance and store messages in the Redis database.\n"
   ]
  },
  {
   "cell_type": "code",
   "execution_count": null,
   "id": "d15e3302",
   "metadata": {},
   "outputs": [],
   "source": [
    "def create_redis_chat_history(session_id: str, redis_url: str) -> RedisChatMessageHistory:\n",
    "    \"\"\"Creates a RedisChatMessageHistory object.\"\"\"\n",
    "    r = redis.from_url(redis_url)\n",
    "    return RedisChatMessageHistory(session_id, r)\n",
    "\n",
    "session_id = 'foo'\n",
    "redis_url = 'redis://localhost:6379'\n",
    "\n",
    "history = create_redis_chat_history(session_id, redis_url)\n",
    "\n",
    "history.add_user_message('hi!')\n",
    "\n",
    "history.add_ai_message('whats up?')"
   ]
  },
  {
   "cell_type": "code",
   "execution_count": null,
   "id": "64fc465e",
   "metadata": {},
   "outputs": [
    {
     "data": {
      "text/plain": [
       "[HumanMessage(content='hi!'), AIMessage(content='whats up?')]"
      ]
     },
     "execution_count": null,
     "metadata": {},
     "output_type": "execute_result"
    }
   ],
   "source": [
    "history.messages"
   ]
  },
  {
   "cell_type": "markdown",
   "id": "465fdd8c-b093-4d19-a55a-30f3b646432b",
   "metadata": {},
   "source": [
    "## Using in the Chains\n",
    "Use the RedisChatMessageHistory in a chain with a ChatOpenAI model.\n"
   ]
  },
  {
   "cell_type": "code",
   "execution_count": null,
   "id": "94d65d2f-e9bb-4b47-a86d-dd6b1b5e8247",
   "metadata": {},
   "outputs": [],
   "source": [
    "def run_chain_with_history(session_id: str, question: str, redis_url: str) -> None:\n",
    "    \"\"\"Runs a chain with a RedisChatMessageHistory.\"\"\"\n",
    "    history = create_redis_chat_history(session_id, redis_url)\n",
    "\n",
    "    from typing import Optional\n",
    "    from langchain_core.prompts import ChatPromptTemplate, MessagesPlaceholder\n",
    "    from langchain_core.runnables.history import RunnableWithMessageHistory\n",
    "    from langchain_openai import ChatOpenAI\n",
    "\n",
    "    prompt = ChatPromptTemplate.from_messages(\n",
    "        [\n",
    "            ('system', 'You\'re an assistant.'),\n",
    "            MessagesPlaceholder(variable_name='history'),\n",
    "            ('human', '{question}'),\n",
    "        ]\n",
    "    )\n",
    "\n",
    "    chain = prompt | ChatOpenAI()\n",
    "\n",
    "    chain_with_history = RunnableWithMessageHistory(\n",
    "        chain,\n",
    "        lambda session_id: create_redis_chat_history(session_id, redis_url),\n",
    "        input_messages_key='question',\n",
    "        history_messages_key='history',\n",
    "    )\n",
    "\n",
    "    config = {'configurable': {'session_id': session_id}}\n",
    "\n",
    "    chain_with_history.invoke({\"question\": question}, config=config)"
   ]
  },
  {
   "cell_type": "code",
   "execution_count": null,
   "id": "ace3e7b2-5e3e-4966-b549-04952a6a9a09",
   "metadata": {},
   "outputs": [],
   "source": [
    "run_chain_with_history('foo', 'Hi! I\'m bob', 'redis://localhost:6379')\n",
    "\n",
    "run_chain_with_history('foo', 'Whats my name', 'redis://localhost:6379')"
   ]
  },
  {
   "cell_type": "code",
   "execution_count": null,
   "id": "76ce3f6b-f4c7-4d27-8031-60f7dd756695",
   "metadata": {},
   "outputs": [],
   "source": []
  }
 ],
 "metadata": {
  "kernelspec": {
   "display_name": "Python 3 (ipykernel)",
   "language": "python",
   "name": "python3"
  },
  "language_info": {
   "codemirror_mode": {
    "name": "ipython",
    "version": 3
   },
   "file_extension": ".py",
   "mimetype": "text/x-python",
   "name": "python",
   "nbconvert_exporter": "python",
   "pygments_lexer": "ipython3",
   "version": "3.10.12"
  }
 },
 "nbformat": 4,
 "nbformat_minor": 5
}
