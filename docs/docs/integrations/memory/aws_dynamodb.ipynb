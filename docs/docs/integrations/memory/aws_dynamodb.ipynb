{
 "cells": [
  {
   "cell_type": "markdown",
   "id": "91c6a7ef",
   "metadata": {},
   "source": [
    "# AWS DynamoDB\n",
    "\n",
    ">[Amazon AWS DynamoDB](https://awscli.amazonaws.com/v2/documentation/api/latest/reference/dynamodb/index.html) is a fully managed `NoSQL` database service that provides fast and predictable performance with seamless scalability.\n",
    "\n",
    "This notebook goes over how to use `DynamoDB` to store chat message history with `DynamoDBChatMessageHistory` class."
   ]
  },
  {
   "cell_type": "markdown",
   "id": "9bcbd170",
   "metadata": {},
   "source": [
    "## Setup\n",

