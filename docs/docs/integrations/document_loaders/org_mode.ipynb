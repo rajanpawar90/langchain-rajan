# Importing required modules
import os
from langchain_community.document_loaders import UnstructuredOrgModeLoader

# Defining file path
file_path = "example_data/README.org"

# Loading data from Org-mode file
try:
    loader = UnstructuredOrgModeLoader(file_path=file_path, mode="elements")
    docs = loader.load()
except Exception as e:
    print(f"Error loading file: {e}")
else:
    # Printing the first document
    doc = docs[0]
    page_content = doc.page_content
    metadata = doc.metadata

    # Formatting the metadata dictionary as a string
    metadata_str = ", ".join(f"{k}='{v}'" for k, v in metadata.items())

    # Printing the result
    print(f"page_content={page_content} metadata={{ {metadata_str} }}")

    # Printing the file directory
    file_dir = os.path.dirname(file_path)
    print(f"File is located in: {file_dir}")
