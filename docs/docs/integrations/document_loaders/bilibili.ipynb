# BiliBiliLoader: Load text transcripts from Bilibili videos

# Import required libraries
!pip install --upgrade --quiet  bilibili-api-python
from langchain_community.document_loaders import BiliBiliLoader

# Define the BiliBiliLoader with necessary cookie parameters
class BiliBiliTranscriptLoader(BiliBiliLoader):
    def __init__(self, video_urls, sessdata=None, bili_jct=None, buvid3=None):
        super().__init__(video_urls)
        self.sessdata = sessdata
        self.bili_jct = bili_jct
        self.buvid3 = buvid3

    def get_page_source(self, cid, **kwargs):
        if not self.sessdata or not self.bili_jct or not self.buvid3:
            return super().get_page_source(cid, **kwargs)

        # Set up headers with cookie parameters
        headers = {
            "cookie": f"SESSDATA={self.sessdata}; BUVID3={self.buvid3}; bili_jct={self.bili_jct};"
        }

        # Fetch the page source with headers
        response = requests.get(f"https://www.bilibili.com/video/av{cid}.html", headers=headers)
        return response.text

# Set up the cookie parameters (optional)
SESSDATA = "<your sessdata>"
BUVID3 = "<your buvids>"
BILI_JCT = "<your bili_jct>"

# Define video URLs
video_urls = [
    "https://www.bilibili.com/video/BV1g84y1R7oE/",
]

# Initialize the BiliBiliTranscriptLoader
loader = BiliBiliTranscriptLoader(video_urls, sessdata=SESSDATA, bili_jct=BILI_JCT, buvid3=BUVID3)

# Load the text transcripts
docs = loader.load()

# Display the loaded text transcripts
docs
