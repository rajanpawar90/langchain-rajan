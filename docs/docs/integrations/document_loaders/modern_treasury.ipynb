{
 "cells": [
  {
   "attachments": {},
   "cell_type": "markdown",
   "metadata": {},
   "source": [
    "# Modern Treasury Data Loading with LangChain\n",
    "\n",
    "This notebook demonstrates how to load data from the [Modern Treasury REST API](https://www.moderntreasury.com/docs/api/) into a format that can be ingested into LangChain, along with example usage for vectorization."
   ]
  },
  {
   "cell_type": "code",
   "execution_count": 1,
   "metadata": {},
   "outputs": [],
   "source": [
    "import sys\n",
    "\n",
    # Add necessary import for ModernTreasuryLoader\n",
    "from langchain_community.document_loaders import ModernTreasuryLoader\n",
    "\n",
    # Add necessary import for VectorstoreIndexCreator\n",
    "from langchain.indexes import VectorstoreIndexCreator"
   ]
  },
  {
   "attachments": {},
   "cell_type": "markdown",
   "metadata": {},
   "source": [
    "Before running this notebook, make sure you have the following:\n",
    "\n",
    "1. An active Modern Treasury account with API credentials.\n",
    "2. The `langchain` and `langchain_community` packages installed.\n",
    "\n",
    "Follow the instructions below to configure the ModernTreasuryLoader with your API credentials and desired resource."
   ]
  },
  {
   "cell_type": "code",
   "execution_count": 2,
   "metadata": {},
   "outputs": [],
   "source": [
    "# Replace these variables with your own Modern Treasury API credentials and resource\n",
    "ORG_ID = \"your_org_id\"\n",
    "API_KEY = \"your_api_key\"\n",
    "RESOURCE = 'payment_orders'\n",
    "\n",
    "# Initialize the ModernTreasuryLoader\n",
    "modern_treasury_loader = ModernTreasuryLoader(\n",
    "    organization_id=ORG_ID,\n",
    "    api_key=API_KEY,\n",
    "    resource=RESOURCE\n",
    ")"
   ]
  },
  {
   "cell_type": "code",
   "execution_count": 3,
   "metadata": {},
   "outputs": [],
   "source": [
    "# Create a vectorstore retriever from the loader\n",
    "# See https://python.langchain.com/en/latest/modules/data_connection/getting_started.html for more details\n",
    "\n",
    "index = VectorstoreIndexCreator().from_loaders([modern_treasury_loader])\n",
    "modern_treasury_doc_retriever = index.vectorstore.as_retriever()"
   ]
  }
 ],
 "metadata": {
  "kernelspec": {
   "display_name": "Python 3 (ipykernel)",
   "language": "python",
   "name": "python3"
  },
  "language_info": {
   "codemirror_mode": {
    "name": "ipython",
    "version": 3
   },
   "file_extension": ".py",
   "mimetype": "text/x-python",
   "name": "python",
   "nbconvert_exporter": "python",
   "pygments_lexer": "ipython3",
   "version": "3.10.6"
  }
 },
 "nbformat": 4,
 "nbformat_minor": 4
}
