{
 "cells": [
  {
   "cell_type": "markdown",
   "id": "2dfc4698",
   "metadata": {},
   "source": [
    "# URL Loader\n",
    "\n",
    "This notebook demonstrates how to load HTML documents from a list of URLs into the `Document` format using different loaders."
   ]
  },
  {
   "cell_type": "markdown",
   "id": "5ccca101-b167-43bc-849e-9d456b16a123",
   "metadata": {},
   "source": [
    "## Unstructured URL Loader\n",
    "\n",
    "You need to install the `unstructured` library:"
   ]
  },
  {
   "cell_type": "code",
   "execution_count": null,
   "id": "cb26084d-a2b0-4685-9ec4-346139ffe0fb",
   "metadata": {},
   "outputs": [],
   "source": [
    "!pip install -U unstructured"
   ]
  },
  {
   "cell_type": "code",
   "execution_count": 1,
   "id": "16c3699e",
   "metadata": {},
   "outputs": [],
   "source": [
    "from unstructured.document_loaders import UnstructuredURLLoader"
   ]
  },
  {
   "cell_type": "code",
   "execution_count": 2,
   "id": "836fbac1",
   "metadata": {},
   "outputs": [],
   "source": [
    "urls = [\n",
    "    'https://www.understandingwar.org/backgrounder/russian-offensive-campaign-assessment-february-8-2023',\n",
    "    'https://www.understandingwar.org/backgrounder/russian-offensive-campaign-assessment-february-9-2023',\n",
    "]\n",
    "\n",
    "loader = UnstructuredURLLoader(urls=urls, ssl_verification=False, headers=headers)"
   ]
  },
  {
   "cell_type": "code",
   "execution_count": 3,
   "id": "b68a26b3",
   "metadata": {},
   "outputs": [],
   "source": [
    "data = loader.load()"
   ]
  },
  {
   "attachments": {},
   "cell_type": "markdown",
   "id": "f3afa135",
   "metadata": {},
   "source": [
    "## Selenium URL Loader\n",
    "\n",
    "To use the `SeleniumURLLoader`, you need to install `selenium` and `unstructured`."
   ]
  },
  {
   "cell_type": "code",
   "execution_count": null,
   "id": "4d2b86cf-55c6-430d-bf31-45591a1aa25a",
   "metadata": {},
   "outputs": [],
   "source": [
    "!pip install -U selenium unstructured"
   ]
  },
  {
   "cell_type": "code",
   "execution_count": null,
   "id": "5fc50835",
   "metadata": {},
   "outputs": [],
   "source": [
    "from unstructured.document_loaders import SeleniumURLLoader"
   ]
  },
  {
   "cell_type": "code",
   "execution_count": null,
   "id": "24e896ce",
   "metadata": {},
   "outputs": [],
   "source": [
    "urls = [\n",
    "    'https://www.youtube.com/watch?v=dQw4w9WgXcQ',\n",
    "    'https://goo.gl/maps/NDSHwePEyaHMFGwh8',\n",
    "]\n",
    "\n",
    "loader = SeleniumURLLoader(urls=urls)"
   ]
  },
  {
   "cell_type": "code",
   "execution_count": null,
   "id": "0090cd57",
   "metadata": {},
   "outputs": [],
   "source": [
    "data = loader.load()"
   ]
  },
  {
   "attachments": {},
   "cell_type": "markdown",
   "id": "a2c1c79f",
   "metadata": {},
   "source": [
    "## Playwright URL Loader\n",
    "\n",
    "To use the `PlaywrightURLLoader`, you need to install `playwright`, `unstructured`, and the `Playwright Chromium` browser.\n",
    "\n",
    "First, install the required libraries and the Playwright Chromium browser:\n",
    "```bash\n",
    "!pip install -U playwright unstructured\n",
    "!playwright install\n",
    "```\n",
    "\n",
    "Now, you can import the `PlaywrightURLLoader` and use it as follows:"
   ]
  },
  {
   "cell_type": "code",
   "execution_count": null,
   "id": "017ba3d2-ccb0-4c24-a079-44a8e524b2fa",
   "metadata": {},
   "outputs": [],
   "source": [
    "from unstructured.document_loaders import PlaywrightURLLoader"
   ]
  },
  {
   "cell_type": "code",
   "execution_count": null,
   "id": "53158417",
   "metadata": {},
   "outputs": [],
   "source": [
    "urls = [\n",
    "    'https://www.youtube.com/watch?v=dQw4w9WgXcQ',\n",
    "    'https://goo.gl/maps/NDSHwePEyaHMFGwh8',\n",
    "]\n",
    "\n",
    "loader = PlaywrightURLLoader(urls=urls, remove_selectors=[\"header\", \"footer\"])"
   ]
  },
  {
   "cell_type": "code",
   "execution_count": null,
   "id": "0ab4e115",
   "metadata": {},
   "outputs": [],
   "source": [
    "data = loader.load()"
   ]
  }
 ],
 "metadata": {
  "kernelspec": {
   "display_name": "Python 3 (ipykernel)",
   "language": "python",
   "name": "python3"
  },
  "language_info": {
   "codemirror_mode": {
    "name": "ipython",
    "version": 3
   },
   "file_extension": ".py",
   "mimetype": "text/x-python",
   "name": "python",
   "nbconvert_exporter": "python",
   "pygments_lexer": "ipython3",
   "version": "3.10.12"
  }
 },
 "nbformat": 4,
 "nbformat_minor": 5
}

