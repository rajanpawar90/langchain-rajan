{
 "cells": [
  {
   "cell_type": "markdown",
   "id": "f70e6118",
   "metadata": {},
   "source": [
    "# Images\n",
    "\n",
    "This covers how to load images such as `JPG` or `PNG` into a document format that we can use downstream."
   ]
  },
  {
   "cell_type": "markdown",
   "id": "09d64998",
   "metadata": {},
   "source": [
    "## Using Unstructured\n",
    "\n",
    "First, let's install the necessary package, `pdfminer`, in a more explicit way."
   ]
  },
  {
   "cell_type": "code",
   "execution_count": null,
   "id": "db8e56db-2e66-443b-8a0b-ef69fa5fae9a",
   "metadata": {
    "tags": []
   },
   "outputs": [],
   "source": [
    "!pip install -U pdfminer.six"
   ]
  },
  {
   "cell_type": "markdown",
   "id": "09d64998",
   "metadata": {},
   "source": [
    "Now, let's import the required module and loader."
   ]
  },
  {
   "cell_type": "code",
   "execution_count": 1,
   "id": "0cc0cd42",
   "metadata": {
    "tags": []
   },
   "outputs": [],
   "source": [
    "import sys\n",
    "\n",
    "sys.path.append(\"path/to/langchain_community\")  # Replace this with the actual path to the langchain_community folder\n",
    "\n",
    "from langchain_community.document_loaders.image import UnstructuredImageLoader"
   ]
  },
  {
   "cell_type": "code",
   "execution_count": 2,
   "id": "082d557c",
   "metadata": {
    "tags": []
   },
   "outputs": [],
   "source": [
    "image_path = \"layout-parser-paper-fast.jpg\"\n",
    "\n",
    "loader = UnstructuredImageLoader(image_path)"
   ]
  },
  {
   "cell_type": "code",
   "execution_count": null,
   "id": "df11c953",
   "metadata": {
    "tags": []
   },
   "outputs": [],
   "source": [
    "try:\n",
    "    data = loader.load()\n",
    "    print(\"Loading succeeded. Displaying the first element:\")\n",
    "    print(data[0])\n",
    "except Exception as e:\n",
    "    print(\"An error occurred while loading the image:\")\n",
    "    print(e)"
   ]
  },
  {
   "cell_type": "markdown",
   "id": "09957371",
   "metadata": {},
   "source": [
    "### Retain Elements\n",
    "\n",
    "Under the hood, Unstructured creates different \"elements\" for different chunks of text. By default we combine those together, but you can easily keep that separation by specifying `mode=\"elements\"`."
   ]
  },
  {
   "cell_type": "code",
   "execution_count": 5,
   "id": "0fab833b",
   "metadata": {},
   "outputs": [],
   "source": [
    "loader = UnstructuredImageLoader(image_path, mode=\"elements\")"
   ]
  },
  {
   "cell_type": "code",
   "execution_count": 6,
   "id": "c3e8ff1b",
   "metadata": {},
   "outputs": [],
   "source": [
    "try:\n",
    "    data = loader.load()\n",
    "    print(\"Loading (with elements) succeeded. Displaying the first element:\")\n",
    "    print(data[0])\n",
    "except Exception as e:\n",
    "    print(\"An error occurred while loading the image (with elements
