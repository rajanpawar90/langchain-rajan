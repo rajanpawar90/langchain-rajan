{
 "cells": [
  {
   "cell_type": "code",
   "execution_count": null,
   "metadata": {},
   "outputs": [],
   "source": [
    "!pip install langchain langchain-community"
   ]
  },
  {
   "attachments": {},
   "cell_type": "markdown",
   "metadata": {},
   "source": [
    "Set your Iugu access token and resource here."
   ]
  },
  {
   "cell_type": "code",
   "execution_count": null,
   "metadata": {},
   "outputs": [],
   "source": [
    "import os\n",
    "\n",
    # Set your Iugu access token here.\n",
    "os.environ['IUGU_ACCESS_TOKEN'] = 'your_access_token'\n",
    "\n",
    # Set the resource you want to load here.\n",
    "RESOURCE = 'charges'\n",
    "\n",
    "from langchain.indexes import VectorstoreIndexCreator\n",
    "from langchain_community.document_loaders import IuguLoader"
   ]
  },
  {
   "attachments": {},
   "cell_type": "markdown",
   "metadata": {},
   "source": [
    "The Iugu API requires an access token, which can be found inside of the Iugu dashboard.\n",
    "\n",
    "This document loader also requires a `resource` option which defines what data you want to load.\n",
    "\n",
    "Following resources are available:\n",
    "\n",
    "`Documentation` [Documentation](https://dev.iugu.com/reference/metadados)\n"
   ]
  },
  {
   "cell_type": "code",
   "execution_count": null,
   "metadata": {},
   "outputs": [],
   "source": [
    "iugu_loader = IuguLoader(RESOURCE)"
   ]
  },
  {
   "cell_type": "code",
   "execution_count": null,
   "metadata": {},
   "outputs": [],
   "source": [
    "# Create a vectorstore retriever from the loader\n",
    "# see https://python.langchain.com/en/latest/modules/data_connection/getting_started.html for more details\n",
    "\n",
    "index = VectorstoreIndexCreator().from_loaders([iugu_loader])\n",
    "iugu_doc_retriever = index.vectorstore.as_retriever()"
   ]
  },
  {
   "cell_type": "code",
   "execution_count": null,
   "metadata": {},
   "outputs": [],
   "source": [
    "# Test the retriever with a simple query\n",
    "from langchain.llms import OpenAILLM\n",
    "\n",
    "llm = OpenAILLM(temperature=0)\n",
    "\n",
    "query = \"What is the purpose of the Iugu API?\"\n",
    "\n",
    "# Get the documents related to the query\n",
    "documents = iugu_doc_retriever.retrieve(query)\n",
    "\n",
    "# Use the LLM to generate a response\n",
    "response = llm(query, documents=documents)\n",
    "\n",
    "print(response)"
   ]
  }
 ],
 "metadata": {
  "kernelspec": {
   "display_name": "Python 3 (ipykernel)",
   "language": "python",
   "name": "python3"
  },
  "language_info": {
   "codemirror_mode": {
    "name": "ipython",
    "version": 3
   },
   "file_extension": ".py",
   "mimetype": "text/x-python",
   "name": "python",
   "nbconvert_exporter": "python",
   "pygments_lexer": "ipython3",
   "version": "3.9.12"
  }
 },
 "nbformat": 4,
 "nbformat_minor": 4
}

