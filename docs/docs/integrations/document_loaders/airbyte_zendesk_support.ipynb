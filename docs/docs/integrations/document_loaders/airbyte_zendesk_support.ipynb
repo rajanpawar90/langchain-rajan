{
  "subdomain": "<your zendesk subdomain>",
  "start_date": "<date from which to start retrieving records from in ISO format, e.g. 2020-10-20T00:00:00Z>",
  "credentials": {
    "credentials": "api_token",
    "email": "<your email>",
    "api_token": "<your api token>"
  }
}
