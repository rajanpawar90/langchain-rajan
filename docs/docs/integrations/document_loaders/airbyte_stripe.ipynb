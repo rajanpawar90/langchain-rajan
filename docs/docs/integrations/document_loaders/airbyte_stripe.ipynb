%pip install --upgrade --quiet  airbyte-source-stripe



{
  "client_secret": "<secret key>",
  "account_id": "<account id>",
  "start_date": "<date from which to start retrieving records from in ISO format, e.g. 2020-10-20T00:00:00Z>",
}



from langchain_community.document_loaders.airbyte import AirbyteStripeLoader

config = {
    # your stripe configuration
}

loader = AirbyteStripeLoader(
    config=config, stream_name="invoices"  # check the documentation linked above for a list of all streams
)



docs = loader.load()



docs_iterator = loader.lazy_load()



from langchain_community.docstore.document import Document

def handle_record(record, id):
    return Document(page_content=record.data["title"], metadata=record.data)

loader = AirbyteStripeLoader(
    config=config,
    record_handler=handle_record,
    stream_name="invoices"
)
docs = loader.load()



last_state = loader.last_state  # store safely

incremental_loader = AirbyteStripeLoader(
    config=config,
    record_handler=handle_record,
    stream_name="invoices",
    state=last_state,
)

new_docs = incremental_loader.load()

