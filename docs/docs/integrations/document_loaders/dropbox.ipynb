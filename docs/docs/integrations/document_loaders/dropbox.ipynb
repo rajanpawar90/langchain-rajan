{
 "cells": [
  {
   "cell_type": "markdown",
   "metadata": {},
   "source": [
    "# Loading Data from Dropbox using Langchain Community Package\n",
    "\n",
    "This notebook demonstrates how to load documents from Dropbox using the `DropboxLoader` class from the `langchain_community` package. The loader supports various file types, including text, PDF, and Dropbox Paper files.\n",
    "\n",
    "## Prerequisites\n",
    "\n",
    "1. Create a Dropbox app and obtain an access token with `files.metadata.read` and `files.content.read` scopes.\n",
    "2. Install the required packages: `pip install langchain_community[pdf] dropbox`\n",
    "\n",
    "## Instructions\n",
    "\n",
    "1. Set the `dropbox_access_token` and `dropbox_folder_path` variables.\n",
    "2. Initialize the `DropboxLoader` class with the required parameters.\n",
    "3. Call the `load()` method to load the documents.\n",
    "4. Optionally, iterate through the loaded documents and perform further processing.\n"
   ]
  },
  {
   "cell_type": "code",
   "execution_count": 1,
   "metadata": {},
   "outputs": [
    {
     "name": "stdout",
     "output_type": "stream",
     "text": [
      "Requirement already satisfied: langchain_community[pdf] in /Users/username/.local/share/virtualenvs/langchain-kv0dsrF5/lib/python3.11/site-packages (0.0.1)\n",
      "Requirement already satisfied: dropbox in /Users/username/.local/share/virtualenvs/langchain-kv0dsrF5/lib/python3.11/site-packages (11.36.2)\n",
      "Requirement already satisfied: requests>=2.16.2 in /Users/username/.local/share/virtualenvs/langchain-kv0dsrF5/lib/python3.11/site-packages (from dropbox) (2.31.0)\n",
      "Requirement already satisfied: six>=1.12.0 in /Users/username/.local/share/virtualenvs/langchain-kv0dsrF5/lib/python3.11/site-packages (from dropbox) (1.16.0)\n",
      "Requirement already satisfied: stone>=2 in /Users/username/.local/share/virtualenvs/langchain-kv0dsrF5/lib/python3.11/site-packages (from dropbox) (3.3.1)\n",
      "Requirement already satisfied: charset-normalizer<4,>=2 in /Users/username/.local/share/virtualenvs/langchain-kv0dsrF5/lib/python3.11/site-packages (from requests>=2.16.2->dropbox) (3.2.0)\n",
      "Requirement already satisfied: idna<4,>=2.5 in /Users/username/.local/share/virtualenvs/langchain-kv0dsrF5/lib/python3.11/site-packages (from requests>=2.16.2->dropbox) (3.4)\n",
      "Requirement already satisfied: urllib3<3,>=1.21.1 in /Users/username/.local/share/virtualenvs/langchain-kv0dsrF5/lib/python3.11/site-packages (from requests>=2.16.2->dropbox) (2.0.4)\n",
      "Requirement already satisfied: certifi>=2017.4.17 in /Users/username/.local/share/virtualenvs/langchain-kv0dsrF5/lib/python3.11/site-packages (from requests>=2.16.2->dropbox) (2023.7.22)\n",
      "Requirement already satisfied: ply>=3.4 in /Users/username/.local/share/virtualenvs/langchain-kv0dsrF5/lib/python3.11/site-packages (from stone>=2->dropbox) (3.11)\n",
      "Note: you may need to restart the kernel to use updated packages.\n"
     ]
    }
   ],
   "source": [
    "!pip install langchain_community[pdf] dropbox"
   ]
  },
  {
   "cell_type": "code",
   "execution_count": 2,
   "metadata": {},
   "outputs": [],
   "source": [
    "from langchain_community.document_loaders import DropboxLoader"
   ]
  },
  {
   "cell_type": "code",
   "execution_
