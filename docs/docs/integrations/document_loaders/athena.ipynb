{
 "cells": [
  {
   "cell_type": "markdown",
   "metadata": {
    "id": "MwTWzDxYgbrR"
   },
   "source": [
    "# Amazon Athena Notebook\n",
    "\n",
    "This notebook demonstrates how to load documents from Amazon Athena using the `AthenaLoader` class.\n",
    "\n",
    ">[Amazon Athena](https://aws.amazon.com/athena/) is a serverless, interactive analytics service built\n",
    ">on open-source frameworks, supporting open-table and file formats. Athena provides a simplified,\n",
    ">flexible way to analyze petabytes of data where it lives. Analyze data or build applications\n",
    ">from an Amazon Simple Storage Service (S3) data lake and 30 data sources, including on-premises data\n",
    ">sources or other cloud systems using SQL or Python. Athena is built on open-source Trino\n",
    ">and Presto engines and Apache Spark frameworks, with no provisioning or configuration effort required.\n",
    "\n",
    "Before running this notebook, make sure to follow the [instructions to set up an AWS account](https://docs.aws.amazon.com/athena/latest/ug/setting-up.html) and install the required python library.\n",
    "\n",
    "```bash\n",
    "! pip install boto3\n",
    "```\n",
    "\n",
    "> ⚠️ **Note**: Replace `my_database`, `my_bucket`, `my_table`, and `my_profile` with your own values.\n",
    "\n"
   ]
  },
  {
   "cell_type": "code",
   "execution_count": null,
   "metadata": {
    "id": "F0zaLR3xgWmO"
   },
   "outputs": [],
   "source": [
    "import sys\n",
    "\n",
    "def print_error_and_exit(message):\n",
    "    \"\"\"Print error message and exit the notebook.\"\"\"\n",
    "    print(f'[!] {message}\n', file=sys.stderr)\n",
    "    exit(1)\n",
    "\n",
    "def check_aws_credentials():\n",
    "    \"\"\"Check if AWS credentials are set up correctly.\"\"\"\n",
    "    try:\n",
    "        import boto3\n",
    "        boto3.client('s3')\n",
    "    except Exception as e:\n",
    "        print_error_and_exit(f'Error initializing AWS SDK: {str(e)}')\n"
   ]
  },
  {
   "cell_type": "code",
   "execution_count": null,
   "metadata": {
    "id": "076NLjfngoWJ"
   },
   "outputs": [],
   "source": [
    "check_aws_credentials()\n",
    "\n",
    "from langchain_community.document_loaders.athena import AthenaLoader"
   ]
  },
  {
   "cell_type": "code",
   "execution_count": null,
   "metadata": {
    "id": "XpMRQwU9gu44"
   },
   "outputs": [],
   "source": [
    "database_name = \"my_database\"\n",
    "s3_output_path = \"s3://my_bucket/query_results/\"\n",
    "query = \"SELECT * FROM my_table\"\n",
    "profile_name = \"my_profile\"\n",
    "\n",
    "loader = AthenaLoader(\n",
    "    query=query,\n",
    "    database=database_name,\n",
    "    s3_output_uri=s3_output_path,\n",
    "    profile_name=profile_name,\n",
    ")\n",
    "\n",
    "try:\n",
    "    documents = loader.load()\n",
    "    print(\"Documents loaded successfully:\")\n",
    "    print(documents)\n",
    "except Exception as e:\n",
    "    print_error_and_exit(f'Error loading documents: {str(e)}')\n"
   ]
  },
  {
   "cell_type": "markdown",
   "metadata": {
    "id": "5IBapL3ejoEt"
   },
   "source": [
    "## Example with metadata columns"
   ]
  },
  {
   "cell_type": "code",
   "execution_count": null,
   "metadata": {
    "id": "wMx6nI1qjryD"
   },
   "outputs": [],
   "source": [
    "database_name = \"my_database\"\n",
    "s3_output_path = \"s3://my_bucket/query_results/\"\n",
    "query = \"SELECT * FROM my_table\"\n",
    "profile_name = \"my_profile\"\n",
    "metadata_columns = [\"_row\", \"_created_at\"]\n",
    "\n",
    "loader = AthenaLoader(\n",
    "    query=query,\n",
    "    database=database_name,\n",
    "    s3_output_uri=s3_output_path,\n",
    "    profile_name=profile_name,\n",
    "    metadata_columns=metadata_columns,\n",
    ")\n",
    "\n",
    "try:\n",
    "    documents = loader.load()\n",
    "    print(\"Documents with metadata loaded successfully:\")\n",
    "    print(documents)\n",
    "except Exception as e:\n",
    "    print_error_and_exit(f'Error loading documents with metadata: {str(e)}')\n"
   ]
  }
 ],
 "metadata": {
  "colab": {
   "provenance": []
  },
  "kernelspec": {
   "display_name": "Python 3 (ipykernel)",
   "language": "python",
   "name": "python3"
  },
  "language_info": {
   "codemirror_mode": {
    "name": "ipython",
    "version": 3
   },
   "file_extension": ".py",
   "mimetype": "text/x-python",
   "name": "python",
   "nbconvert_exporter": "python",
   "pygments_lexer": "ipython3",
   "version": "3.10.12"
  }
 },
 "nbformat": 4,
 "nbformat_minor": 4
}
