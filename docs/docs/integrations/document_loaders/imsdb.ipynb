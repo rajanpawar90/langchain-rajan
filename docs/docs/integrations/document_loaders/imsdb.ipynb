{
 "cells": [
  {
   "cell_type": "markdown",
   "id": "cc9b809c",
   "metadata": {},
   "source": [
    "# IMSDb\n",
    "\n",
    ">[IMSDb](https://imsdb.com/) is the `Internet Movie Script Database`.\n",
    "\n",
    "This notebook demonstrates how to scrape `IMSDb` webpages and load them into a Jupyter Notebook."
   ]
  },
  {
   "cell_type": "code",
   "execution_count": 1,
   "id": "9d1f867e",
   "metadata": {
    "tags": []
   },
   "outputs": [],
   "source": [
    "import requests\n",
    "from bs4 import BeautifulSoup\n",
    "from IPython.display import display, HTML\n",
    "\n",
    "# Custom IMSDbLoader class\n",
    "class IMSDbLoader:\n",
    "    def __init__(self, url):\n",
    "        self.url = url\n",
    "\n",
    "    def load(self):\n",
    "        response = requests.get(self.url)\n",
    "        soup = BeautifulSoup(response.text, 'html.parser')\n",
    "        metadata = {'source': self.url}\n",
    "        pages = []\n",
    "        page = {\n",
    "            'source': self.url,\n",
    "            'metadata': metadata,\n",
    "            'page_content': str(soup)\n",
    "        }\n",
    "        pages.append(page)\n",
    "        return pages"
   ]
  },
  {
   "cell_type": "code",
   "execution_count": 2,
   "id": "84a32aa1",
   "metadata": {
    "tags": []
   },
   "outputs": [],
   "source": [
    "loader = IMSDbLoader('https://imsdb.com/scripts/BlacKkKlansman.html')\n",
    "data = loader.load()"
   ]
  },
  {
   "cell_type": "code",
   "execution_count": 3,
   "id": "8ae5ffe2",
   "metadata": {
    "tags": []
   },
   "outputs": [
    {
     "data": {
      "text/plain": [
       "'<!DOCTYPE html PUBLIC \"-//W3C//DTD XHTML 1.0 Transitional//EN\" \"http://www.w3.org/TR/xhtml1/DTD/xhtml1-transitional.dtd\">\\n<html xmlns=\"http://www.w3.org/1999/xhtml\">\\n<head>\\n<meta http-equiv=\"Content-Type\" content=\"text/html; charset=UTF-8\" />\\n<title>BLACKKKLANSMAN - IMSDb</title>\\n<meta name=\"description\" content=\"BLACKKKLANSMAN script - written by Charlie Wachtel & David Rabinowitz and Kevin Willmott & Spike Lee - on IMSDb.\\n\\n\" />\\n<meta name=\"keywords\" content=\"BLACKKKLANSMAN, script, written, by, Charlie, Wachtel, David, Rabinowitz, Kevin, Willmott, Spike, Lee, IMSDb\" />\\n<meta name=\"author\" content=\"IMSDb\" />\\n<meta name=\"viewport\" content=\"width=device-width, initial-scale=1.0\" />\\n<link rel=\"stylesheet\" type=\"text/css\" href=\"/style.css\" />\\n<link rel=\"shortcut icon\" href=\"/favicon.ico\" type=\"image/x-icon\" />\\n<script type=\"text/javascript\" src=\"/jquery.min.js\"></script>\\n<script type=\"text/javascript\" src=\"/scriptaculous/lib/prototype.js\"></script>\\n<script type=\"text/javascript\" src=\"/scriptaculous/src/scriptaculous.js?load=builder,effects,controls\"></script>\\n<script type=\"text/javascript\" src=\"/script.js\"></script>\\n<script type=\"text/javascript\" src=\"/analytics.js\"></script>\\n<script type=\"text/javascript\" src=\"/ads.js\"></script>\\n<script type=\"text/javascript\" src=\"/ads/admanager.js\"></script>\\n<script type=\"text/javascript\" src=\"/ads/admanager_banner.js\"></script>\\n<script type=\"text/javascript\" src=\"/ads/admanager_popup.js\"></script>\\n<script type=\"text/javascript\" src=\"/ads/admanager_video.js\"></script>\\n<script type=\"text/javascript\" src=\"/ads/admanager_interstitial.js\"></script>\\n<script type=\"text/javascript\" src=\"/ads/admanager_mobile.js\"></script>\\n<script type=\"text/javascript\" src=\"/ads/admanager_sticky.js\"></script>\\n<script type=\"text/javascript\" src=\"/ads/admanager_footer.js\"></script>\\n<script type=\"text/javascript\" src=\"/ads/admanager_sidebar.js\"></script>\\n<script type=\"text/javascript\" src=\"/ads/admanager_top.js\"></script>\\n<script type=\"text/javascript\" src=\"/ads/admanager_rail.js\"></script>\\n<script type=\"text/javascript\" src=\"/ads/admanager_leaderboard.js\"></script>\\n<script type=\"text/javascript\" src=\"/ads/admanager_skyscraper.js\"></script>\\n<script type=\"text/javascript\" src=\"/ads/admanager_rectangle.js\"></script>\\n<script type=\"text/javascript\" src=\"/ads/admanager_halfpage.js\"></script>\\n<script type=\"text/javascript\" src=\"/ads/admanager_medium_rectangle.js\"></script>\\n<script type=\"text/javascript\" src=\"/ads/admanager_wide_skyscraper.js\"></script>\\n<script type=\"text/javascript\" src=\"/ads/admanager_large_rectangle.js\"></script>\\n<script type=\"text/javascript\" src=\"/ads/admanager_billboard.js\"></script>\\n<script type=\"text/javascript\" src=\"/ads/admanager_mobile_leaderboard.js\"></script>\\n<script type=\"text/javascript\" src=\"/ads/admanager_mobile_banner.js\"></script>\\n<script type=\"text/javascript\" src=\"/ads/admanager_mobile_interstitial.js\"></script>\\n<script type=\"text/javascript\" src=\"/ads/admanager_mobile_sticky.js\"></script>\\n<script type=\"text/javascript\" src=\"/ads/admanager_mobile_rail.js\"></script>\\n<script type=\"text/javascript\" src=\"/ads/admanager_mobile_skyscraper.js\"></script>\\n<script type=\"text/javascript\" src=\"/ads/admanager_mobile_rectangle.js\"></script>\\n<script type=\"text/javascript\" src=\"/ads/admanager_mobile_halfpage.js\"></script>\\n<script type=\"text/javascript\" src=\"/ads/admanager_mobile_medium_rectangle.js\"></script>\\n<script type=\"text/javascript\" src=\"/ads/admanager_mobile_wide_skyscraper.js\"></script>\\n<script type=\"text/javascript\" src=\"/ads/admanager_mobile_large_rectangle.js\"></script>\\n<script type=\"text/javascript\" src=\"/ads/admanager_mobile_billboard.js\"></script>\\n<script type=\"text/javascript\" src=\"/ads/admanager_mobile_popup.js\"></script>\\n<script type=\"text/javascript\" src=\"/ads/admanager_mobile_video.js\"></script>\\n<script type=\"text/javascript\" src=\"/ads/admanager_desktop_leaderboard.js\"></script>\\n<script type=\"text/javascript\" src=\"/ads/admanager_desktop_banner.js\"></script>\\n<script type=\"text/javascript\" src=\"/ads/admanager_desktop_interstitial.js\"></script>\\n<script type=\"text/javascript\" src=\"/ads/admanager_desktop_sticky.js\"></script>\\n<script type=\"text/javascript\" src=\"/ads/admanager_desktop_rail.js\"></script>\\n<script type=\"text/javascript\" src=\"/ads/admanager_desktop_skyscraper.js\"></script>\\n<script type=\"text/javascript\" src=\"/ads/admanager_desktop_rectangle.js\"></script>\\n<script type=\"text/javascript\" src=\"/ads/admanager_desktop_halfpage.js\"></script>\\n<script type=\"text/javascript\" src=\"/ads/admanager_desktop_medium_rectangle.js\"></script>\\n<script type=\"text/javascript\" src=\"/ads/admanager_desktop_wide_skyscraper.js\"></script>\\n<script type=\"text/javascript\" src=\"/ads/admanager_desktop_large_rectangle.js\"></script>\\n<script type=\"text/javascript\" src=\"/ads/admanager_desktop_billboard.js\"></script>\\n<script type=\"text/javascript\" src=\"/ads/admanager_desktop_popup.js\"></script>\\n<script type=\"text/javascript\" src=\"/ads/admanager_desktop_video.js\"></script>\\n<script type=\"text/javascript\" src=\"/ads/admanager_desktop_mobile.js\"></script>\\n<script type=\"text/javascript\" src=\"/ads/admanager_desktop_tablet.js\"></script>\\n<script type=\"text/javascript\" src=\"/ads/admanager_desktop_sticky_sidebar.js\"></script>\\n<script type=\"text/javascript\" src=\"/ads/admanager_desktop_sticky_top.js\"></script>\\n<script type=\"text/javascript\" src=\"/ads/admanager_desktop_sticky_footer.js\"></script>\\n<script type=\"text/javascript\" src=\"/ads/admanager_desktop_sticky_rail.js\"></script>\\n<script type=\"text/javascript\" src=\"/ads/admanager_desktop_sticky_leaderboard.js\"></script>\\n<script type=\"text/javascript\" src=\"/ads/admanager_desktop_sticky_banner.js\"></script>\\n<script type=\"text/javascript\" src=\"/ads/admanager_desktop_sticky_skyscraper.js\"></script>\\n<script type=\"text/javascript\" src=\"/ads/admanager_desktop_sticky_rectangle.js\"></script>\\n<script type=\"text/javascript\" src=\"/ads/admanager_desktop_sticky_halfpage.js\"></script>\\n<script type=\"text/javascript\" src=\"/ads/admanager_desktop_sticky_medium_rectangle.js\"></script>\\n<script type=\"text/javascript\" src=\"/ads/admanager_desktop_sticky_wide_skyscraper.js\"></script>\\n<script type=\"text/javascript\" src=\"/ads/admanager_desktop_sticky_large_rectangle.js\"></script>\\n<script type=\"text/javascript\" src=\"/ads/admanager_desktop_sticky_billboard.js\"></script>\\n<script type=\"text/javascript\" src=\"/ads/admanager_desktop_sticky_popup.js\"></script>\\n<script type=\"text/javascript\" src=\"/ads/admanager_desktop_sticky_video.js\"></script>\\n<script
