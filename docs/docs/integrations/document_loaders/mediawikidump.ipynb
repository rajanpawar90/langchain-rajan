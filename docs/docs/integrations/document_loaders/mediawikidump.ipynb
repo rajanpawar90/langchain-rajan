{
 "cells": [
  {
   "cell_type": "markdown",
   "metadata": {},
   "source": [
    "# MediaWiki Dump\n",
    "\n",
    ">[MediaWiki XML Dumps](https://www.mediawiki.org/wiki/Manual:Importing_XML_dumps) contain the content of a wiki (wiki pages with all their revisions), without the site-related data. A XML dump does not create a full backup of the wiki database, the dump does not contain user accounts, images, edit logs, etc.\n",
    "\n",
    "This covers how to load a MediaWiki XML dump file into a document format that we can use downstream.\n",
    "\n",
    "It uses `mwxml` from `mediawiki-utilities` to dump and `mwparserfromhell` from `earwig` to parse MediaWiki wikicode.\n",
    "\n",
    "Dump files can be obtained with dumpBackup.php or on the Special:Statistics page of the Wiki."
   ]
  },
  {
   "cell_type": "code",
   "execution_count": null,
   "metadata": {
    "id": "IXigDil0pANf"
   },
   "outputs": [],
   "source": [
    "# Install required packages\n",
    "!pip install --upgrade --quiet git+https://github.com/mediawiki-utilities/python-mwtypes@updates_schema_0.11 || echo 'Package installation failed'\n",
    "!pip install --upgrade --quiet git+https://github.com/gdedrouas/python-mwxml@xml_format_0.11 || echo 'Package installation failed'\n",
    "!pip install --upgrade --quiet mwparserfromhell || echo 'Package installation failed'\n"
   ]
  },
  {
   "cell_type": "code",
   "execution_count": 3,
   "metadata": {
    "id": "8-vB5XGHsE85"
   },
   "outputs": [],
   "source": [
    "from langchain_community.document_loaders import MWDumpLoader\n",
    "import os\n",
    "import pprint"
   ]
  },
  {
   "cell_type": "code",
   "execution_count": 4,
   "metadata": {
    "id": "i6e42MSkqEeH"
   },
   "outputs": [
    {
     "name": "stdout",
     "output_type": "stream",
     "text": [
      "You have 177 document(s) in your data \n"
     ]
    }
   ],
   "source": [
    "file_path = 'example_data/testmw_pages_current.xml'\n",
    "loader = MWDumpLoader(\n",
    "    file_path=file_path,\n",
    "    encoding=\"utf8\",\n",
    "    skip_redirects=True,\n",
    "    stop_on_error=False,\n",
    ")\n",
    "documents = loader.load()\n",
    "print(f\"You have {len(documents)} document(s) in your data \")\n",
    "pprint.pprint(documents[:5])\n"
   ]
  },
  {
   "cell_type": "code",
   "execution_count": null,
   "metadata": {},
   "outputs": [],
   "source": []
  }
 ],
 "metadata": {
  "colab": {
   "provenance": [],
   "toc_visible": true
  },
  "kernelspec": {
   "display_name": "Python 3 (ipykernel)",
   "language": "python",
   "name": "python3"
  },
  "language_info": {
   "codemirror_mode": {
    "name": "ipython",
    "version": 3
   },
   "file_extension": ".py",
   "mimetype": "text/x-python",
   "name": "python",
   "nbconvert_exporter": "python",
   "pygments_lexer": "ipython3",
   "version": "3.10.12"
  }
 },
 "nbformat": 4,
 "nbformat_minor": 4
}
