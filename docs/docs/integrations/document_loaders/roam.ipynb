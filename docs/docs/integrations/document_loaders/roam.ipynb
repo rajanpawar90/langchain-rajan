import os
from langchain_community.document_loaders import RoamLoader

# Define the path to the Roam database directory
roam_db_path = "Roam_DB"

# Check if the Roam database directory exists, and create it if it doesn't
if not os.path.exists(roam_db_path):
    os.makedirs(roam_db_path)

# Define the path to the Roam database zip file
zip_file_path = "Downloads/Roam-Export-1675782732639.zip"

# Unzip the Roam database zip file
try:
    with open(zip_file_path, "rb") as zip_file:
        print(f"Unzipping {zip_file_path}...")
        os.system(f"unzip {zip_file_path} -d {roam_db_path}")
except FileNotFoundError:
    print(f"File {zip_file_path} not found.")
except Exception as e:
    print(f"Error unzipping file: {e}")

# Check if the Roam database directory is not empty
if not os.listdir(roam_db_path):
    print("Roam database directory is empty.")
else:
    # Load the Roam database
    loader = RoamLoader(roam_db_path)
    try:
        docs = loader.load()
        print("Roam database loaded successfully.")
    except Exception as e:
        print(f"Error loading Roam database: {e}")
