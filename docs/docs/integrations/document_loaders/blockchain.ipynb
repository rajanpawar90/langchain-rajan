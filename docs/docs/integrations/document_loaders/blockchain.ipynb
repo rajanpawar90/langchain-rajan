{
 "cells": [
  {
   "cell_type": "markdown",
   "metadata": {
    "id": "vm8vn9t8DvC_"
   },
   "source": [
    "# Blockchain"
   ]
  },
  {
   "cell_type": "markdown",
   "metadata": {
    "id": "5WjXERXzFEhg"
   },
   "source": [
    "## Overview"
   ]
  },
  {
   "attachments": {},
   "cell_type": "markdown",
   "metadata": {
    "id": "juAmbgoWD17u"
   },
   "source": [
    "The intention of this notebook is to provide a means of testing functionality in the Langchain Document Loader for Blockchain.\n",
    "\n",
    "Initially this Loader supports:\n",
    "\n",
    "*   Loading NFTs as Documents from NFT Smart Contracts (ERC721 and ERC1155)\n",
    "*   Ethereum Mainnet, Ethereum Testnet, Polygon Mainnet, Polygon Testnet (default is eth-mainnet)\n",
    "*   Alchemy's getNFTsForCollection API\n",
    "\n",
    "It can be extended if the community finds value in this loader.  Specifically:\n",
    "\n",
    "*   Additional APIs can be added (e.g. Tranction-related APIs)\n",
    "\n",
    "This Document Loader Requires:\n",
    "\n",
    "*   A free [Alchemy API Key](https://www.alchemy.com/)\n",
    "\n",
    "The output takes the following format:\n",
    "\n",
    "- pageContent= Individual NFT\n",
    "- metadata={'source': '0x1a92f7381b9f03921564a437210bb9396471050c', 'blockchain': 'eth-mainnet', 'tokenId': '0x15'})"
   ]
  },
  {
   "cell_type": "markdown",
   "metadata": {},
   "source": [
    "## Load NFTs into Document Loader"
   ]
  },
  {
   "cell_type": "code",
   "execution_count": null,
   "metadata": {},
   "outputs": [],
   "source": [
    "# Get ALCHEMY_API_KEY from https://www.alchemy.com/\n",
    "\n",
    "try:\n",
    "    alchemy_api_key = 'your_alchemy_api_key'\n",
    "except Exception as e:\n",
    "    print(f\"Error: Make sure to set the ALCHEMY_API_KEY environment variable or replace 'your_alchemy_api_key' with your actual Alchemy API key. Error: {e}\")\n",
    "    raise\n"
   ]
  },
  {
   "cell_type": "markdown",
   "metadata": {},
   "source": [
    "### Function to load NFTs from a given blockchain type and contract address"
   ]
  },
  {
   "cell_type": "code",
   "execution_count": null,
   "metadata": {},
   "outputs": [],
   "source": [
    "from langchain_community.document_loaders.blockchain import (\n",
    "    BlockchainDocumentLoader,\n",
    "    BlockchainType,\n",
    ")\n",
    "\n",
    "def load_nfts(contract_address: str, blockchain_type: BlockchainType = BlockchainType.ETH_MAINNET, api_key: str = alchemy_api_key) -> list:\n",
    "    blockchain_loader = BlockchainDocumentLoader(\n",
    "        contract_address=contract_address,\n",
    "        blockchain_type=blockchain_type,\n",
    "        api_key=api_key,\n",
    "    )\n",
    "    \n",
    "    return blockchain_loader.load()"
   ]
  },
  {
   "cell_type": "markdown",
   "metadata": {},
   "source": [
    "### Main block"
   ]
  },
  {
   "cell_type": "code",
   "execution_count": null,
   "metadata": {
    "id": "J3LWHARC-Kn0"
   },
   "outputs": [],
   "source": [
    "if __name__ == '__main__':\n",
    "    \n",
    "    # Option 1: Ethereum Mainnet (default BlockchainType)\n",
    "    contract_address = '0xbc4ca0eda7647a8ab7c2061c2e118a18a936f13d'\n",
    "    nfts = load_nfts(contract_address)\n",
    "    print(\"Ethereum Mainnet NFTs:\")\n",
    "    for nft in nfts[:2]:\n",
    "        print(nft)\n",
    "        print()\n",
    "        \n",
    "    # Option 2: Polygon Mainnet\n",
    "    contract_address = '0x448676ffCd0aDf2D85C1f0565e8dde6924A9A7D9'\n",
    "    nfts = load_nfts(contract_address, BlockchainType.POLYGON_MAINNET)\n",
    "    print(\"Polygon Mainnet NFTs:\")\n",
    "    for nft in nfts[:2]:\n",
    "        print(nft)\n",
    "        print()"
   ]
  }
 ],
 "metadata": {
  "colab": {
   "collapsed_sections": [
    "5WjXERXzFEhg"
   ],
   "provenance": []
  },
  "kernelspec": {
   "display_name": "Python 3 (ipykernel)",
   "language": "python",
   "name": "python3"
  },
  "language_info": {
   "codemirror_mode": {
    "name": "ipython",
    "version": 3
   },
   "file_extension": ".py",
   "mimetype": "text/x-python",
   "name": "python",
   "nbconvert_exporter": "python",
   "pygments_lexer": "ipython3",
   "version": "3.10.6"
  }
 },
 "nbformat": 4,
 "nbformat_minor": 4
}
