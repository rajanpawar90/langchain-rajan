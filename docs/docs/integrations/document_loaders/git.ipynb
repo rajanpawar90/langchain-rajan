{
 "cells": [
  {
   "cell_type": "markdown",
   "metadata": {},
   "source": [
    "# Git\n",
    "\n",
    ">[Git](https://en.wikipedia.org/wiki/Git) is a distributed version control system that tracks changes in any set of computer files, usually used for coordinating work among programmers collaboratively developing source code during software development.\n",
    "\n",
    "This notebook shows how to load text files from `Git` repository."
   ]
  },
  {
   "cell_type": "markdown",
   "metadata": {},
   "source": [
    "## Functions\n",
    "\n",
    "We define two functions to clone the repository and load data from it.\n",
    "\n",
    "- `clone_repository(clone_url, repo_path, branch=None)`\n",
    "    Clones the repository from the given `clone_url` to the specified `repo_path`. If the `branch` is provided, it checks out the given branch.\n",
    "\n",
    "- `load_data(repo_path, file_filter=None)`\n",
    "    Loads data from the repository at `repo_path`. If `file_filter` is provided, it loads only the files that match the filter."
   ]
  },
  {
   "cell_type": "code",
   "execution_count": null,
   "metadata": {
    "tags": []
   },
   "outputs": [],
   "source": [
    "import os\n",
    "import shutil\n",
    "from git import Repo\n",
    "from langchain_community.document_loaders import GitLoader\n",
    "\n",
    "def clone_repository(clone_url, repo_path, branch=None):\n",
    "    \"\"\"\n",
    "    Clones the repository from the given `clone_url` to the specified `repo_path`. If the `branch` is provided,\n",
    "    it checks out the given branch.\n",
    "    \"\"\"\n",
    "    if os.path.exists(repo_path):\n",
    "        shutil.rmtree(repo_path)\n",
    "    Repo.clone_from(clone_url, repo_path, branch=branch)\n",
    "\n",
    "def load_data(repo_path, file_filter=None):\n",
    "    \"\"\"\n",
    "    Loads data from the repository at `repo_path`. If `file_filter` is provided,\n",
    "    it loads only the files that match the filter.\n",
    "    \"\"\"\n",
    "    repo = Repo(repo_path)\n",
    "    branch = repo.head.reference\n",
    "    loader = GitLoader(repo_path=repo_path, branch=branch, file_filter=file_filter)\n",
    "    return loader.load()"
   ]
  },
  {
   "cell_type": "code",
   "execution_count": null,
   "metadata": {
    "tags": []
   },
   "outputs": [],
   "source": [
    "clone_repository(\n",
    "    'https://github.com/langchain-ai/langchain',\n",
    "    './example_data/test_repo1',\n",
    "    branch='master'\n",
    ")"
   ]
  },
  {
   "cell_type": "code",
   "execution_count": null,
   "metadata": {
    "tags": []
   },
   "outputs": [],
   "source": [
    "data = load_data('./example_data/test_repo1', file_filter=lambda file_path: file_path.endswith('.py'))"
   ]
  },
  {
   "cell_type": "code",
   "execution_count": null,

