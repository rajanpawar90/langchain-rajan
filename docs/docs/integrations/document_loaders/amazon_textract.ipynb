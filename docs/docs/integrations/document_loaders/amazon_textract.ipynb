{
 "cells": [
  {
   "cell_type": "markdown",
   "id": "1f3cebbe-079a-4bfe-b1a1-07bdac882ce2",
   "metadata": {},
   "source": [
    "# Amazon Textract\n",
    "\n",
    ">[Amazon Textract](https://docs.aws.amazon.com/managedservices/latest/userguide/textract.html) is a machine learning (ML) service that automatically extracts text, handwriting, and data from scanned documents.\n",
    ">\n",
    ">It goes beyond simple optical character recognition (OCR) to identify, understand, and extract data from forms and tables. Today, many companies manually extract data from scanned documents such as PDFs, images, tables, and forms, or through simple OCR software that requires manual configuration (which often must be updated when the form changes). To overcome these manual and expensive processes, `Textract` uses ML to read and process any type of document, accurately extracting text, handwriting, tables, and other data with no manual effort. \n",
    "\n",
    "This sample demonstrates the use of `Amazon Textract` in combination with LangChain as a DocumentLoader."
   ]
  },
  {
   "cell_type": "code",
   "execution_count": 1,
   "id": "a1aa66d4-85f2-42ad-a8d3-de7cea8d6c35",
   "metadata": {
    "scrolled": true
   },
   "outputs": [],
   "source": [
    "# Install required packages\n",
    "try:\n",
    "    !pip install --upgrade --quiet boto3 langchain-openai tiktoken python-dotenv\n",
    "except Exception as e:\n",
    "    print(\"Error installing packages: \" + str(e))\n",
    "\n",
    "# Install Amazon Textract Caller\n",
    "try:\n",
    "    !pip install --upgrade --quiet 'amazon-textract-caller>=0.2.0'\n",

