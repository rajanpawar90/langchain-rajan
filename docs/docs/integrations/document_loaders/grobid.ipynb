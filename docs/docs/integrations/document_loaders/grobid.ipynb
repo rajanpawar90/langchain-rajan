# Grobid

# GROBID is a machine learning library for extracting, parsing, and re-structuring raw documents.
# It is designed and expected to be used to parse academic papers, where it works particularly well.
# Note: if the articles supplied to Grobid are large documents (e.g. dissertations) exceeding a certain number of elements, they might not be processed.

# This loader uses Grobid to parse PDFs into `Documents` that retain metadata associated with the section of text.
# The best approach is to install Grobid via docker, see https://grobid.readthedocs.io/en/latest/Grobid-docker/.

# Once grobid is up-and-running you can interact as described below.

# Interacting with Grobid

from langchain_community.document_loaders.generic import GenericLoader
from langchain_community.document_loaders.parsers import GrobidParser

# Loading documents

loader = GenericLoader.from_filesystem(
    "../Papers/",
    glob="*.pdf",
    parser=GrobidParser(segment_sentences=False),
)

docs = loader.load()

# Displaying document content

for doc in docs:
    print(f"Document title: {doc.metadata['paper_title']}")
    print(f"Page content:\n{doc.page_content}\n")
    print("Document metadata:\n{doc.metadata}\n")
