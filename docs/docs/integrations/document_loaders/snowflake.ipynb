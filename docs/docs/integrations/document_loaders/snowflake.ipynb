SNOWFLAKE_ACCOUNT = 'your_snowflake_account'
SNOWFLAKE_USER = 'your_snowflake_user'
SNOWFLAKE_PASS = 'your_snowflake_pass'
SNOWFLAKE_WAREHOUSE = 'your_snowflake_warehouse'
SNOWFLAKE_ROLE = 'your_snowflake_role'
SNOWFLAKE_DATABASE = 'your_snowflake_database'
SNOWFLAKE_SCHEMA = 'your_snowflake_schema'


{
 "cells": [
  {
   "cell_type": "markdown",
   "metadata": {},
   "source": [
    "# Snowflake\n",
    "\n",
    "This notebook demonstrates how to load documents from Snowflake using the `SnowflakeLoader`."
   ]
  },
  {
   "cell_type": "code",
   "execution_count": null,
   "metadata": {},
   "outputs": [],
   "source": [
    "%pip install --upgrade --quiet  snowflake-connector-python"
   ]
  },
  {
   "cell_type": "code",
   "execution_count": 1,
   "metadata": {},
   "outputs": [],
   "source": [
    "import settings as s\n",
    "import sys\n",
    "from langchain_community.document_loaders import SnowflakeLoader\n",
    "\n",
    "# Add Snowflake connection error handling\n",
    "try:\n",
    "    connection = snowflake.connector.connect(\n",
    "        user=s.SNOWFLAKE_USER,\n",
    "        password=s.SNOWFLAKE_PASS,\n",
    "        account=s.SNOWFLAKE_ACCOUNT,\n",
    "        warehouse=s.SNOWFLAKE_WAREHOUSE,\n",
    "        role=s.SNOWFLAKE_ROLE,\n",
    "        database=s.SNOWFLAKE_DATABASE,\n",
    "        schema=s.SNOWFLAKE_SCHEMA,\n",
    "    )\n",
    "except Exception as e:\n",
    "    print(\"Error connecting to Snowflake: \", e, file=sys.stderr)\n",
    "    sys.exit(1)"
   ]
  },
  {
   "cell_type": "code",
   "execution_count": null,
   "metadata": {},
   "outputs": [],
   "source": [
    "QUERY = \"select text as text, survey_id as source from CLOUD_DATA_SOLUTIONS.HAPPY_OR_NOT.OPEN_FEEDBACK limit 10\"\n",
    "snowflake_loader = SnowflakeLoader(\n",
    "    query=QUERY,\n",
    "    user=s.SNOWFLAKE_USER,\n",
    "    password=s.SNOWFLAKE_PASS,\n",
    "    account=s.SNOWFLAKE_ACCOUNT,\n",
    "    warehouse=s.SNOWFLAKE_WAREHOUSE,\n",
    "    role=s.SNOWFLAKE_ROLE,\n",
    "    database=s.SNOWFLAKE_DATABASE,\n",
    "    schema=s.SNOWFLAKE_SCHEMA,\n",
    "    metadata_columns=['source'],\n",
    ")\n"
   ]
  },
  {
   "cell_type": "code",
   "execution_count": null,
   "metadata": {},
   "outputs": [],
   "source": [
    "snowflake_documents = None\n",
    "\n",
    "# Load documents from Snowflake\n",
    "try:\n",
    "    snowflake_documents = snowflake_loader.load()\n",
    "except Exception as e:\n",
    "    print(\"Error loading documents from Snowflake: \", e, file=sys.stderr)\n",
    "\n",
    "# Print loaded documents\n",
    "if snowflake_documents:\n",
    "    print(\"Loaded documents:\")\n",
    "    print(snowflake_documents)"
   ]
  }
 ],
 "metadata": {
  "kernelspec": {
   "display_name": "Python 3 (ipykernel)",
   "language": "python",
   "name": "python3"
  },
  "language_info": {
   "codemirror_mode": {
    "name": "ipython",
    "version": 3
   },
   "file_extension": ".py",
   "mimetype": "text/x-python",
   "name": "python",
   "nbconvert_exporter": "python",
   "pygments_lexer": "ipython3",
   "version": "3.9.1"
  }
 },
 "nbformat": 4,
 "nbformat_minor": 2
}
