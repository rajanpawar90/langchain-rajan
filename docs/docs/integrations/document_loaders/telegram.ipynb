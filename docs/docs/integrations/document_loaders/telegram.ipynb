{
 "cells": [
  {
   "cell_type": "markdown",
   "id": "33205b12",
   "metadata": {},
   "source": [
    "# Telegram\n",
    "\n",
    ">[Telegram Messenger](https://web.telegram.org/a/) is a globally accessible freemium, cross-platform, encrypted, cloud-based and centralized instant messaging service. The application also provides optional end-to-end encrypted chats and video calling, VoIP, file sharing and several other features.\n",
    "\n",
    "This notebook covers how to load data from `Telegram` into a format that can be ingested into LangChain."
   ]
  },
  {
   "cell_type": "code",
   "execution_count": 1,
   "id": "90b69c94",
   "metadata": {},
   "outputs": [],
   "source": [
    "import sys\n",
    "\n",
    "try:\n",
    "    from langchain_community.document_loaders import (\n",
    "        TelegramChatApiLoader,  # For loading data from a Telegram chat using the API\n",
    "        TelegramChatFileLoader  # For loading data from a Telegram chat saved as a JSON file\n",
    "    )\n",
    "except ModuleNotFoundError:\n",
    "    print(\"Error: The 'langchain_community' module is not installed. Please install it to use the Telegram loaders.\")\n",
    "    sys.exit(1)\n"
   ]
  },
  {
   "cell_type": "code",
   "execution_count": 2,
   "id": "13deb0f5",
   "metadata": {},
   "outputs": [],
   "source": [
    "try:\n",
    "    loader = TelegramChatFileLoader(\"example_data/telegram.json\")\n",
    "except Exception as e:\n",
    "    print(f\"Error: Failed to load data from the JSON file. Error: {e}\")\n",
    "    sys.exit(1)\n"
   ]
  },
  {
   "cell_type": "code",
   "execution_count": 3,
   "id": "9ccc1e2f",
   "metadata": {},
   "outputs": [
    {
     "data": {
      "text/plain": [
       "[Document(page_content=\"Henry on 2020-01-01T00:00:02: It's 2020...\\n\\nHenry on 2020-01-01T00:00:04: Fireworks!\\n\\nGrace ðŸ§¤ ðŸ\\x8d’ on 2020-01-01T00:00:05: You're a minute late!\\n\\n\", metadata={'source': 'example_data/telegram.json'})]"
      ]
     },
     "execution_count": 3,
     "metadata": {},
     "output_type": "execute_result"
    }
   ],
   "source": [
    "documents = loader.load()"
   ]
  },
  {
   "cell_type": "markdown",
   "id": "3e64cac2",
   "metadata": {},
   "source": [
    "`TelegramChatApiLoader` loads data directly from any specified chat from Telegram. In order to export the data, you will need to authenticate your Telegram account. \n",
    "\n",
    "You can get the API_HASH and API_ID from <https://my.telegram.org/auth?to=apps>.\n",
    "\n",
    "chat_entity – recommended to be the [entity](https://docs.telethon.dev/en/stable/concepts/entities.html?highlight=Entity#what-is-an-entity) of a channel.\n",
    "\n"
   ]
  },
  {
   "cell_type": "code",
   "execution_count": null,
   "id": "f05f75f3",
   "metadata": {},
   "outputs": [],
   "source": [
    "import os\n",
    "\n",
    "# Replace the following placeholders with your actual data\n",
    "CHAT_URL = \"<CHAT_URL>\"\n",
    "API_HASH = \"<API_HASH>\"\n",
    "API_ID = <API_ID>\n",
    "USERNAME = os.getenv(\"TELEGRAM_USERNAME\", \"\")\n",
    "\n",
    "try:\n",
    "    loader = TelegramChatApiLoader(\n",
    "        chat_entity=CHAT_URL,  # recommended to use Entity here\n",
    "        api_hash=API_HASH,\n",
    "        api_id=API_ID,\n",
    "        username=USERNAME  # needed only for caching the session.\n",
    "    )\n",
    "except Exception as e:\n",
    "    print(f\"Error: Failed to create the TelegramChatApiLoader. Error: {e}\")\n",
    "    sys.exit(1)"
   ]
  },
  {
   "cell_type": "code",
   "execution_count": null,
   "id": "40039f7b",
   "metadata": {},
   "outputs": [],
   "source": [
    "try:\n",
    "    documents = loader.load()\n",
    "except Exception as e:\n",
    "    print(f\"Error: Failed to load data from Telegram. Error: {e}\")\n",
    "    sys.exit(1)"
   ]
  },
  {
   "cell_type": "code",
   "execution_count": null,
   "id": "18e5af2b",
   "metadata": {},
   "outputs": [],
   "source": []
  }
 ],
 "metadata": {
  "kernelspec": {
   "display_name": "Python 3 (ipykernel)",
   "language": "python",
   "name": "python3"
  },
  "language_info": {
   "codemirror_mode": {
    "name": "ipython",
    "version": 3
   },
   "file_extension": ".py",
   "mimetype": "text/x-python",
   "name": "python",
   "nbconvert_exporter": "python",
   "pygments_lexer": "ipython3",
   "version": "3.10.6"
  }
 },
 "nbformat": 4,
 "nbformat_minor": 5
}
