{
 "cells": [
  {
   "cell_type": "markdown",
   "metadata": {},
   "source": [
    "# Neo4j Vector Index\n",
    "\n",
    ">[Neo4j](https://neo4j.com/) is an open-source graph database with integrated support for vector similarity search\n",
    "\n",
    "It supports:\n",
    "- approximate nearest neighbor search\n",
    "- Euclidean similarity and cosine similarity\n",
    "- Hybrid search combining vector and keyword searches\n",
    "\n",
    "This notebook shows how to use the Neo4j vector index (`Neo4jVector`)."
   ]
  },
  {
   "cell_type": "markdown",
   "metadata": {},
   "source": [
    "See the [installation instruction](https://neo4j.com/docs/operations-manual/current/installation/)."
   ]
  },
  {
   "cell_type": "code",
   "execution_count": null,
   "metadata": {
    "tags": []
   },
   "outputs": [],
   "source": [
    "# Check if the required packages are installed\n",
    "required_packages = ['neo4j', 'langchain-openai', 'tiktoken', 'pandas', 'bottleneck']\n",
    "missing_packages = [p for p in required_packages if p not in !pip list!.split('\n')]\n",
    "\n",
    "if missing_packages:\n",
    "    !pip install -q !{{' '.join(missing_packages)}}!\n",
    "\n",
    "# Import the required modules\n",
    "import os\n",
    "import getpass\n",
    "import neo4j\n",
    "from langchain_community.docstore.document import Document\n",
    "from langchain_community.document_loaders import TextLoader\n",
    "from langchain_community.vectorstores import Neo4jVector\n",
    "from langchain_openai import OpenAIEmbeddings\n",
    "from langchain_text_splitters import CharacterTextSplitter"
   ]
  },
  {
   "cell_type": "code",
   "execution_count": null,
   "metadata": {
    "tags": []
   },
   "outputs": [],
   "source": [
    "def get_neo4j_vector(docs, url=None, username=None, password=None, embeddings=None):\n",
    "    \"\"\"\n",
    "    Get the Neo4jVector object.\n",
    "    \n",
    "    Parameters:\n",
    "    docs (List[Document]): The list of documents.\n",
    "    url (str): The Neo4j database URL. Defaults to bolt://localhost:7687.\n",
    "    username (str): The Neo4j database username. Defaults to neo4j.\n",
    "    password (str): The Neo4j database password. Defaults to password.\n",
    "    embeddings (OpenAIEmbeddings): The embeddings object. If not provided, it will be created.\n",
    "                                  Defaults to OpenAIEmbeddings().\n",
    "                                  \n",
    "    Returns:\n",
    "    Neo4jVector: The Neo4jVector object.\n",
    "    \"\"\"\n",
    "    if not url:\n",
    "        url = 'bolt://localhost:7687'\n",
    "    if not username:\n",
    "        username = 'neo4j'\n",
    "    if not password:\n",
    "        password = 'password'\n",
    "    if not embeddings:\n",
    "        embeddings = OpenAIEmbeddings()\n",
    "\n",
    "    try:\n",
    "        driver = neo4j.GraphDatabase.driver(url, auth=(username, password))\n",
    "    except neo4j.ServiceUnavailable:
