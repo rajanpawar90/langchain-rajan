{
 "cells": [
  {
   "cell_type": "markdown",
   "id": "c94240f5",
   "metadata": {},
   "source": [
    "# Apache AGE\n",
    "\n",
    ">Apache AGE (A Graph Extension) is a PostgreSQL extension that provides graph database functionality. It is inspired by Bitnine’s fork of PostgreSQL 10, AgensGraph, and aims to create a single storage that can handle both relational and graph model data. The data elements stored by Apache AGE are nodes, edges connecting them, and attributes of nodes and edges.\n",
    "\n",
    ">This notebook demonstrates how to use LLMs to provide a natural language interface to a graph database that can be queried using the Cypher query language.\n",
    "\n",
    ">Cypher is a declarative graph query language that allows for expressive and efficient data querying in a property graph.\n"
   ]
  },
  {
   "cell_type": "markdown",
   "id": "dbc0ee68",
   "metadata": {},
   "source": [
    "## Setup\n",
    "\n",
    "You will need a running PostgreSQL instance with the AGE extension installed. One option for testing is to run a Docker container using the official AGE Docker image.\n",
    "\n",
    "You can run a local Docker container by executing the following script:\n",
    "\n",
    "```bash\n",
    "docker run \\",
    "    --name age  \\",
    "
