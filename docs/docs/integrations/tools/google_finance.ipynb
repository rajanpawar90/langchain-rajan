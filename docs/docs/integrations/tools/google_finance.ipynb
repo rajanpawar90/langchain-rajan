{
 "cells": [
  {
   "cell_type": "markdown",
   "metadata": {},
   "source": [
    "# Google Finance\n",
    "\n",
    "This notebook goes over how to use the Google Finance Tool to get information from the Google Finance page\n",
    "\n",
    "To get a SerpApi key, sign up at: https://serpapi.com/users/sign_up.\n",
    "\n",
    "Then install google-search-results with the command: \n",
    "\n",
    "pip install google-search-results\n",
    "\n",
    "Then set the environment variable SERPAPI_API_KEY to your SerpApi key\n",
    "\n",
    "Or pass the key in as a argument to the wrapper serp_api_key=\"your secret key\""
   ]
  },
  {
   "cell_type": "markdown",
   "metadata": {},
   "source": [
    "Use the Tool"
   ]
  },
  {
   "cell_type": "code",
   "execution_count": null,
   "metadata": {},
   "outputs": [],
   "source": [
    "!pip install --upgrade --quiet google-search-results"
   ]
  },
  {
   "cell_type": "code",
   "execution_count": null,
   "metadata": {},
   "outputs": [],
   "source": [
    "import os\n",
    "\n",
    "import serpapi\n",
    "from serpapi.google_search_results import GoogleSearchResults\n",
    "\n",
    "def get_google_finance_data(query: str, api_key: str) -> dict:\n",
    "    client = serpapi.GoogleSearch(api_key)\n",
    "    search = client.get_google_finance(query)\n",
    "    return search\n",
    "\n",
    "api_key = os.getenv('SERPAPI_API_KEY')\n",
    "if not api_key:\n",
    "    api_key = input('Enter your SerpApi API key: ')\n",
    "\n",
    "query = 'GOOGL'\n",
    "search_results = get_google_finance_data(query, api_key)\n",
    "print(search_results)\n"
   ]
  },
  {
   "cell_type": "markdown",
   "metadata": {},
   "source": [
    "Using it with Langchain"
   ]
  },
  {
   "cell_type": "code",
   "execution_count": null,
   "metadata": {},
   "outputs": [],
   "source": [
    "import os\n",
    "\n",
    "import openai\n",
    "from langchain.agents import AgentType, initialize_agent, load_tools\n",
    "\n",
    "os.environ['OPENAI_API_KEY'] = 'YOUR_OPENAI_API_KEY'\n",
    "os.environ['SERPAPI_API_KEY'] = api_key\n",
    "\n",
    "tools = load_tools(['google-finance'], llm=openai.ChatCompletion.create(model='gpt-3.5-turbo'))\n",
    "agent = initialize_agent(\n",
    "    tools, openai.ChatCompletion.create(model='gpt-3.5-turbo'), agent=AgentType.ZERO_SHOT_REACT_DESCRIPTION, verbose=True\n",
    ")\n",
    "agent.run('What is the current price of Google stock?')"
   ]
  }
 ],
 "metadata": {
  "kernelspec": {
   "display_name": "Python 3",
   "language": "python",
   "name": "python3"
  },
  "language_info": {
   "codemirror_mode": {
    "name": "ipython",
    "version": 3
   },
   "file_extension": ".py",
   "mimetype": "text/x-python",
   "name": "python",
   "nbconvert_exporter": "python",
   "pygments_lexer": "ipython3",
   "version": "3.9.5"
  }
 },
 "nbformat": 4,
 "nbformat_minor": 2
}

