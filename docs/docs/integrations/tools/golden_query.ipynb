{
  "cells": [
    {
      "cell_type": "markdown",
      "id": "245a954a",
      "metadata": {
        "id": "245a954a"
      },
      "source": [
        "# Golden Query\n",
        "\n",
        "Golden provides a set of natural language APIs for querying and enrichment using the Golden Knowledge Graph. The `golden-query` langchain tool is a wrapper on top of the Golden Query API, enabling programmatic access to these results.\n",
        "\n",
        "1. Visit the [Golden API docs](https://docs.golden.com/) for an overview.\n",
        "2. Get your API key from the [Golden API Settings](https://golden.com/settings/api) page.\n",
        "3. Save your API key into the `GOLDEN_API_KEY` environment variable."
      ]
    },
    {
      "cell_type": "code",
      "execution_count": null,
      "id": "34bb5968",
      "metadata": {
        "id": "34bb5968"
      },
      "outputs": [],
      "source": [
        "# Set the Golden API key from environment variable
        import os

        os.environ['GOLDEN_API_KEY'] = 'your_golden_api_key'
      ]
    },
    {
      "cell_type": "code",
      "execution_count": null,
      "id": "ac4910f8",
      "metadata": {
        "id": "ac4910f8"
      },
      "outputs": [],
      "source": [
        "# Import required libraries
        from langchain_community.utilities.golden_query import GoldenQueryAPIWrapper

        # Initialize the GoldenQueryAPIWrapper
        golden_query = GoldenQueryAPIWrapper()
      ]
    },
    {
      "cell_type": "code",
      "execution_count": null,
      "id": "068991a6",
      "metadata": {
        "id": "068991a6",
        "outputId": "c5cdc6ec-03cf-4084-cc6f-6ae792d91d39"
      },
      "outputs": [
        {
          "data": {
            "text/plain": [
              "{'results': [...], 'next': '...', 'previous': None}"
            ]
          },
          "execution_count": null,
          "metadata": {},
          "output_type": "execute_result"
        }
      ],
      "source": [
        "# Run a query
        try:\n",
        "    query_results = golden_query.run(\"companies in nanotech\")\n",
        "    print(json.dumps(query_results, indent=2))\n",
        "except Exception as e:\n",
        "    print(f\"Error: {e}\")\n",
      ]
    }
  ],
  "metadata": {
    "kernelspec": {
      "display_name": ".venv",
      "language": "python",
      "name": "python3"
    },
    "language_info": {
      "codemirror_mode": {
        "name": "ipython",
        "version": 3
      },
      "file_extension": ".py",
      "mimetype": "text/x-python",
      "name": "python",
      "nbconvert_exporter": "python",
      "pygments_lexer": "ipython3",
      "version": "3.9.13"
    },
    "vscode": {
      "interpreter": {
        "hash": "53f3bc57609c7a84333bb558594977aa5b4026b1d6070b93987956689e367341"
      }
    },
    "colab": {
      "provenance": []
    }
  },
  "nbformat": 4,
  "nbformat_minor": 5
}
