# Function to get API key
def get_api_key():
    try:
        import os
        return os.environ["PPLX_API_KEY"]
    except KeyError:
        import getpass
        return getpass("Enter your PPLX_API_KEY: ")

# Get the API key
api_key = get_api_key()

# Set the API key in the environment variables
import os
os.environ["PPLX_API_KEY"] = api_key

# Import required libraries
from langchain_community.chat_models import ChatPerplexity
from langchain_core.prompts import ChatPromptTemplate

# Initialize the chat model
chat = ChatPerplexity(temperature=0, model="pplx-70b-online")

# Define the prompt template
system_message = "You are a helpful assistant."
human_message = "{input}"
prompt_template = ChatPromptTemplate.from_messages([("system", system_message), ("human", human_message)])

# Define a function to get a response from the model
def get_response(input_text):
    chain = prompt_template | chat
    response = chain.invoke({"input": input_text})
    return response.content

# Get a response
print(get_response("Why is the Higgs Boson important?"))

# Define another prompt
human_message_2 = "Tell me a joke about {topic}"
prompt_template_2 = ChatPromptTemplate.from_messages([("human", human_message_2)])

# Define a function to get a joke
def get_joke(topic):
    chain_2 = prompt_template_2 | chat
    response = chain_2.invoke({"topic": topic})
    return response.content

# Get a joke
print(get_joke("cats"))

# Use the streaming functionality
print("Famous tourist attractions in Pakistan:")
chain_3 = prompt_template | chat
for chunk in chain_3.stream({"input": "Give me a list of famous tourist attractions in Pakistan"}):
    print(chunk.content, end="", flush=True)
