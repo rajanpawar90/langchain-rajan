# Install required packages
# Note: You should run this in a separate cell before executing the rest of the code
# %pip install --upgrade langchain langchain-openai context-python

# Context API token setup
import os

if "CONTEXT_API_TOKEN" not in os.environ:
    raise ValueError("Please set the `CONTEXT_API_TOKEN` environment variable")

token = os.environ["CONTEXT_API_TOKEN"]

# Import required modules
from langchain_community.callbacks.context_callback import ContextCallbackHandler
from langchain.schema import HumanMessage, SystemMessage
from langchain_openai import ChatOpenAI

# Initialize Context callback handler
context_callback = ContextCallbackHandler(token)

# Example of using the Context callback handler within a chat model
def chat_with_context(messages):
    chat = ChatOpenAI(
        headers={"user_id": "123"}, temperature=0, callbacks=[context_callback]
    )
    return chat(messages)

messages = [
    SystemMessage(
        content="You are a helpful assistant that translates English to French."
    ),
    HumanMessage(content="I love programming."),
]

print(chat_with_context(messages))

# Example of using the Context callback handler within Chains
from langchain.chains import LLMChain
from langchain_core.prompts import PromptTemplate
from langchain_core.prompts.chat import ChatPromptTemplate, HumanMessagePromptTemplate

human_message_prompt = HumanMessagePromptTemplate(
    prompt=PromptTemplate(
        template="What is a good name for a company that makes {product}?",
        input_variables=["product"],
    )
)

chat_prompt_template = ChatPromptTemplate.from_messages([human_message_prompt])

def chain_with_context(product):
    callback = context_callback
    chat = ChatOpenAI(temperature=0.9, callbacks=[callback])
    chain = LLMChain(llm=chat, prompt=chat_prompt_template, callbacks=[callback])
    return chain.run(product)

print(chain_with_context("colorful socks"))
