{
 "cells": [
  {
   "cell_type": "markdown",
   "metadata": {},
   "source": [
    "# Llama-cpp with LangChain\n",
    "\n",
    "This notebook demonstrates how to use Llama-cpp embeddings within LangChain, with error handling and example output."
   ]
  },
  {
   "cell_type": "code",
   "execution_count": null,
   "metadata": {},
   "outputs": [],
   "source": [
    "![pip install --upgrade --quiet llama-cpp-python](https://user-images.githubusercontent.com/102797224/218227382-16e3720e-e15e-4b6f-8e8d-f536018e1818.png)"
   ]
  },
  {
   "cell_type": "code",
   "execution_count": null,
   "metadata": {},
   "outputs": [],
   "source": [
    "try:\n",
    "    from langchain_community.embeddings import LlamaCppEmbeddings\n",
    "except ImportError as e:\n",
    "    print(\"Error importing LlamaCppEmbeddings: \", e)"
   ]
  },
  {
   "cell_type": "code",
   "execution_count": null,
   "metadata": {},
   "outputs": [],
   "source": [
    "model_path = '/path/to/model/ggml-model-q4_0.bin'"
   ]
  },
  {
   "cell_type": "code",
   "execution_count": null,
   "metadata": {},
   "outputs": [],
   "source": [
    "embedding_kwargs = {'model_path': model_path}"
   ]
  },
  {
   "cell_type": "code",
   "execution_count": null,
   "metadata": {},
   "outputs": [],
   "source": [
    "try:\n",
    "    with LlamaCppEmbeddings(**embedding_kwargs) as llama:\n",
    "        text = 'This is a test document.'\n",
    "        query_result = llama.embed_query(text)\n",
    "        doc_result = llama.embed_documents([text])\n",
    "        print(\"Example query embedding:\", query_result[0])\n",
    "        print(\"Example document embedding:\", doc_result[0])\n",
    "except Exception as e:\n",
    "    print(\"Error during embedding: \", e)"
   ]
  }
 ],
 "metadata": {
  "kernelspec": {
   "display_name": "Python 3 (ipykernel)",
   "language": "python",
   "name": "python3"
  },
  "language_info": {
   "codemirror_mode": {
    "name": "ipython",
    "version": 3
   },
   "file_extension": ".py",
   "mimetype": "text/x-python",
   "name": "python",
   "nbconvert_exporter": "python",
   "pygments_lexer": "ipython3",
   "version": "3.9.1"
  }
 },
 "nbformat": 4,
 "nbformat_minor": 5
}
