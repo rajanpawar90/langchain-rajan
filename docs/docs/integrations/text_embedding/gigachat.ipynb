!pip install --upgrade --quiet  gigachat


import os
from getpass import getpass

os.environ["GIGACHAT_CREDENTIALS"] = getpass()


from langchain_community.embeddings import GigaChatEmbeddings

embeddings = GigaChatEmbeddings(verify_ssl_certs=False, scope="GIGACHAT_API_PERS")


query_result = embeddings.embed_query("The quick brown fox jumps over the lazy dog")


query_result[:5]
