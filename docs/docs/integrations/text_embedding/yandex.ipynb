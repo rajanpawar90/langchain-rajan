# YandexGPT with Langchain Embeddings Notebook
# This notebook demonstrates how to use Langchain with YandexGPT embeddings models.

# To use, you should have the `yandexcloud` python package installed.
# You can install it using the following command:
%pip install --upgrade --quiet  yandexcloud

import os
from langchain_community.embeddings.yandex import YandexGPTEmbeddings

# You should create a service account with the `ai.languageModels.user` role.
# For more information, see: https://cloud.yandex.com/en/docs/iam/operations/sa/create

# You have two authentication options:
# 1. IAM token (preferred):
#    You can specify the token in a constructor parameter `iam_token` or in an environment variable `YC_IAM_TOKEN`.
# 2. API key:
#    You can specify the key in a constructor parameter `api_key` or in an environment variable `YC_API_KEY`.

# Set up the environment variables for authentication
YC_IAM_TOKEN = os.getenv("YC_IAM_TOKEN")
YC_API_KEY = os.getenv("YC_API_KEY")

if not YC_IAM_TOKEN and not YC_API_KEY:
    raise ValueError("Please set up the YC_IAM_TOKEN or YC_API_KEY environment variable for authentication.")

# Set up the folder_id environment variable or use the `folder_id` parameter
folder_id = os.getenv("YC_FOLDER_ID")

# Specify the model using the `model_uri` parameter
# For more details, see: https://cloud.yandex.com/en/docs/yandexgpt/concepts/models#yandexgpt-embeddings
model_uri = "your-model-uri"

# Initialize the YandexGPTEmbeddings class with the required parameters
embeddings = YandexGPTEmbeddings(
    iam_token=YC_IAM_TOKEN,
    api_key=YC_API_KEY,
    folder_id=folder_id,
    model_uri=model_uri,
)

# Test the embeddings functionality
text = "This is a test document."
query_result = embeddings.embed_query(text)
doc_result = embeddings.embed_documents([text])

print("Query result:", query_result[:5])
print("Document result:", doc_result[0][:5])
