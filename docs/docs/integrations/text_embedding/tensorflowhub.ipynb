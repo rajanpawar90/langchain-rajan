from tensorflow_hub import TensorFlowHub


embeddings.load_model('https://tfhub.dev/google/universal-sentence-encoder/4')


print(query_result.shape)
print(doc_results.shape)
