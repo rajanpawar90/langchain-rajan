{
 "cells": [
  {
   "cell_type": "raw",
   "id": "913dd5a2-24d1-4f8e-bc15-ab518483eef9",
   "metadata": {},
   "source": [
    "---
title: Handle Long Text
sidebar_position: 2
---
"]
  },
  {
   "cell_type": "markdown",
   "id": "9e161a8a-fcf0-4d55-933e-da271ce28d7e",
   "metadata": {},
   "source": [
    "When working with files, like PDFs, you're likely to encounter text that exceeds your language model's context window. To process this text, consider these strategies:\n",
    "\n",
    "1. **Change LLM** Choose a different LLM that supports a larger context window.\n",
    "2. **Brute Force** Chunk the document, and extract content from each chunk.\n",
    "3. **RAG** Chunk the document, index the chunks, and only extract content from a subset of chunks that look \"relevant\".\n",
    "\n",
    "Keep in mind that these strategies have different trade off and the best strategy likely depends on the application that you're designing!"
   ]
  },
  {
   "cell_type": "markdown",
   "id": "57969139-ad0a-487e-97d8-cb30e2af9742",
   "metadata": {},
   "source": [
    "## Set up\n",
    "\n",
    "We need some example data! Let's download an article about [cars from wikipedia](https://en.wikipedia.org/wiki/Car) and load it as a `Document`."
   ]
  },
  {
   "cell_type": "code",
   "execution_count": 1,
   "id": "571aad22-2cec-4b9b-b656-5e4b81a1ec6c",
   "metadata": {},
   "outputs": [],
   "source": [
    "import re\n",
    "import os\n",
    "import requests\n",
    "from typing import List, Optional\n",
    "from langchain_community.document_loaders import BSHTMLLoader\n",
    "\n",
    "# Create output directory if it doesn't exist\n",
    "output_dir = 'output'
